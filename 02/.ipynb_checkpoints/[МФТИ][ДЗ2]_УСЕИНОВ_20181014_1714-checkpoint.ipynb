{
 "cells": [
  {
   "cell_type": "code",
   "execution_count": 16,
   "metadata": {},
   "outputs": [],
   "source": [
    "import numpy as np\n",
    "import matplotlib.pyplot as plt\n",
    "import pickle\n",
    "from sklearn.model_selection import train_test_split\n",
    "import tqdm\n",
    "%matplotlib inline"
   ]
  },
  {
   "cell_type": "code",
   "execution_count": 17,
   "metadata": {},
   "outputs": [],
   "source": [
    "# класс one-hot encoder'а для MNIST\n",
    "class OneHotEncoder:\n",
    "    def __init__(self):\n",
    "        self.transform_mapping = np.zeros((10,10))\n",
    "        for i in range(self.transform_mapping.shape[0]):\n",
    "            self.transform_mapping[i][i] = 1.0\n",
    "    def transform(self, y):\n",
    "        return self.transform_mapping[int(y)]"
   ]
  },
  {
   "cell_type": "code",
   "execution_count": 34,
   "metadata": {},
   "outputs": [],
   "source": [
    "def make_submission(X_test, net, fname=\"my_submission.csv\"):\n",
    "    with open(fname,'w') as fout:\n",
    "        fout.write('Id,Category')\n",
    "        for i in range(X_test.shape[0]):\n",
    "            y_h = net.forward(X_test[i])\n",
    "            y = np.argmax(y_h)\n",
    "            fout.write(\"\\n{},{}\".format(i, int(y)))"
   ]
  },
  {
   "cell_type": "code",
   "execution_count": 19,
   "metadata": {},
   "outputs": [],
   "source": [
    "# внимание, тут Y_test в обычном формате(не onehot)\n",
    "def compute_acc(X_test, Y_test, net):\n",
    "    acc = 0.0\n",
    "    for i in range(X_test.shape[0]):\n",
    "        y_h = net.forward(X_test[i])\n",
    "        y = np.argmax(y_h)\n",
    "        if(y == Y_test[i]):\n",
    "            acc += 1.0\n",
    "    return acc / Y_test.shape[0]"
   ]
  },
  {
   "cell_type": "code",
   "execution_count": 20,
   "metadata": {},
   "outputs": [],
   "source": [
    "train_data = None\n",
    "test_data = None\n",
    "encoder = OneHotEncoder()\n",
    "with open('data_train.pickle','rb') as fin:\n",
    "    train_data = pickle.load(fin)\n",
    "with open('data_test_no_labels.pickle','rb') as fin:\n",
    "    test_data = pickle.load(fin)\n",
    "    \n",
    "X_train = train_data['data']\n",
    "Y_train = train_data['target']\n",
    "Y_train_oh = np.array(list(map(lambda x : encoder.transform(x), Y_train)))\n",
    "\n",
    "\n",
    "X_test = test_data['data']"
   ]
  },
  {
   "cell_type": "code",
   "execution_count": 21,
   "metadata": {},
   "outputs": [
    {
     "data": {
      "image/png": "[encoded data removed]",
      "text/plain": [
       "<matplotlib.figure.Figure at 0x11586eba8>"
      ]
     },
     "metadata": {},
     "output_type": "display_data"
    }
   ],
   "source": [
    "n=4\n",
    "for i in range(n*n):\n",
    "    plt.subplot(n,n,i+1)\n",
    "    I = train_data['data'][np.random.randint(0, X_train.shape[0]),:]\n",
    "    I = I.reshape((28, 28))\n",
    "    plt.imshow(I, cmap='gray')"
   ]
  },
  {
   "cell_type": "code",
   "execution_count": 22,
   "metadata": {},
   "outputs": [],
   "source": [
    "# Подготовка датасета\n",
    "# Подготовим файлы датасета\n",
    "\n",
    "with open('./data_train.pickle', 'rb') as f:\n",
    "    train = pickle.load(f)\n",
    "with open('./data_test_no_labels.pickle', 'rb') as f:\n",
    "    test_no_lables = pickle.load(f)\n",
    "\n",
    "# Отнормируем данные\n",
    "\n",
    "x = train['data']\n",
    "y = train['target']\n",
    "x = x.astype('float')\n",
    "\n",
    "xm = np.mean(x, axis = 0)\n",
    "xs = np.std(x, axis = 0)\n",
    "x = (x - xm) / (xs + 0.00001)\n",
    "\n",
    "x_train, x_val, y_train, y_val = train_test_split(x, y, test_size  = 0.25)"
   ]
  },
  {
   "cell_type": "code",
   "execution_count": 23,
   "metadata": {},
   "outputs": [],
   "source": [
    "# Определение слоев сети\n",
    "# class Dense:\n",
    "# Реализуем по аналогии с лекцией\n",
    "\n",
    "class Dense:\n",
    "    \n",
    "    def __init__(self, in_size, out_size, rlambda = 0.0):\n",
    "        self.W = np.random.normal(scale=1, size=(out_size, in_size)) * np.sqrt(2/(out_size + in_size))\n",
    "        self.b = np.zeros(out_size)\n",
    "        self.rlambda = rlambda\n",
    "        \n",
    "    def forward(self, x):\n",
    "        self.x = x\n",
    "        return np.dot(self.W, x) + self.b\n",
    "    \n",
    "    def get_reg_loss(self):\n",
    "        return 0.5 * self.rlambda * (np.linalg.norm(self.W, ord='fro') ** 2)\n",
    "    \n",
    "    def backward(self, dz, lr=0.003): ###\n",
    "        self.dW = np.outer(dz, self.x)\n",
    "        self.db = dz\n",
    "        self.dx = np.matmul(dz, self.W) \n",
    "        if(self.rlambda != 0):\n",
    "            self.dW += self.rlambda * self.W\n",
    "        self.W = self.W - lr * self.dW\n",
    "        self.b = self.b - lr * self.db\n",
    "        return self.dx"
   ]
  },
  {
   "cell_type": "code",
   "execution_count": 24,
   "metadata": {},
   "outputs": [],
   "source": [
    "# Определение слоев сети\n",
    "# class Max:\n",
    "# Реализуем по аналогии с лекцией\n",
    "\n",
    "class Max:\n",
    "    \n",
    "    def forward(self, x):\n",
    "        self.x = x\n",
    "        return np.maximum(0, x)\n",
    "    \n",
    "    def backward(self, dz, lr=0.01): ###\n",
    "        dz[self.x < 0] = 0\n",
    "        return dz"
   ]
  },
  {
   "cell_type": "code",
   "execution_count": 25,
   "metadata": {},
   "outputs": [],
   "source": [
    "# Определение слоев сети\n",
    "# class  SoftMax:\n",
    "# Реализуем по аналогии с лекцией\n",
    "\n",
    "class SoftMax:\n",
    "    \n",
    "    def forward(self, x):\n",
    "        self.x = x\n",
    "        exp = np.exp(x)\n",
    "        return exp / np.sum(exp)\n",
    "\n",
    "    def backward(self, dz, lr = 0.002): ###\n",
    "        sm = self.forward(self.x)\n",
    "        self.lp = (np.eye(sm.shape[0], sm.shape[0]) - sm).T\n",
    "        self.lp2 = sm * self.lp\n",
    "        return np.dot(dz, self.lp2)"
   ]
  },
  {
   "cell_type": "code",
   "execution_count": 26,
   "metadata": {},
   "outputs": [],
   "source": [
    "# Определим loss-функцию CrossEntropy\n",
    "# class CrossEntropy:\n",
    "\n",
    "class CrossEntropy:\n",
    "    \n",
    "    def forward(self, y_true, y_hat):\n",
    "        self.y_true = y_true\n",
    "        self.y_hat = y_hat\n",
    "        return -np.sum(y_true * np.log(y_hat))\n",
    "    \n",
    "    def backward(self, dz, lr = 0.01): ###\n",
    "        return -dz * self.y_true / self.y_hat"
   ]
  },
  {
   "cell_type": "code",
   "execution_count": 27,
   "metadata": {},
   "outputs": [],
   "source": [
    "# Опеределение самой сети\n",
    "# class MnistNet:\n",
    "\n",
    "class MnistNet:\n",
    "    \n",
    "    def __init__(self, rlambda=0.0):\n",
    "        self.d_1 = Dense(x_train.shape[1], 100, rlambda) ###\n",
    "        self.m = Max()\n",
    "        self.d_2 = Dense(100, 10, rlambda) ###\n",
    "        self.s = SoftMax()\n",
    "    \n",
    "    def forward(self, x):\n",
    "        net = self.d_1.forward(x)\n",
    "        net = self.m.forward(net)\n",
    "        net = self.d_2.forward(net)\n",
    "        net = self.s.forward(net)\n",
    "        return net\n",
    "    \n",
    "    def backward(self, dz, lr):\n",
    "        dz = self.s.backward(dz, lr)\n",
    "        dz = self.d_2.backward(dz, lr)\n",
    "        dz = self.m.backward(dz, lr)\n",
    "        dz = self.d_1.backward(dz, lr)\n",
    "        return dz"
   ]
  },
  {
   "cell_type": "code",
   "execution_count": 29,
   "metadata": {},
   "outputs": [
    {
     "data": {
      "application/vnd.jupyter.widget-view+json": {
       "model_id": "26302b537b7e400786ed87d73ffe7f83",
       "version_major": 2,
       "version_minor": 0
      },
      "text/plain": [
       "HBox(children=(IntProgress(value=0, max=80), HTML(value='')))"
      ]
     },
     "metadata": {},
     "output_type": "display_data"
    },
    {
     "name": "stdout",
     "output_type": "stream",
     "text": [
      "0 iter loss. Train : 0.3558389270011449 . Test : 0.23754484232140755\n",
      "1 iter loss. Train : 0.17012358158735905 . Test : 0.18999572197807998\n",
      "2 iter loss. Train : 0.12569022818124814 . Test : 0.17324872548080036\n",
      "3 iter loss. Train : 0.09766392316368933 . Test : 0.16212443773795482\n",
      "4 iter loss. Train : 0.07869526153422585 . Test : 0.1554356462758909\n",
      "5 iter loss. Train : 0.06627052356825927 . Test : 0.1499861525733904\n",
      "6 iter loss. Train : 0.054835392521727366 . Test : 0.1477335983878108\n",
      "7 iter loss. Train : 0.04615969411315859 . Test : 0.14580372077588705\n",
      "8 iter loss. Train : 0.039385758935004414 . Test : 0.1441084015411725\n",
      "9 iter loss. Train : 0.03424248791091096 . Test : 0.1436057841854726\n",
      "10 iter loss. Train : 0.029976330629165087 . Test : 0.14093070985740072\n",
      "11 iter loss. Train : 0.02594516318487723 . Test : 0.14125734884858637\n",
      "12 iter loss. Train : 0.022852119871210427 . Test : 0.1419675866815257\n",
      "13 iter loss. Train : 0.020213381834811313 . Test : 0.14253274673045166\n",
      "14 iter loss. Train : 0.018206316654988463 . Test : 0.1433142244940024\n",
      "15 iter loss. Train : 0.016406794391131203 . Test : 0.14266965547586666\n",
      "16 iter loss. Train : 0.014793631859778974 . Test : 0.14182264941681627\n",
      "17 iter loss. Train : 0.01350620390643636 . Test : 0.1439034093641169\n",
      "18 iter loss. Train : 0.012385711089086373 . Test : 0.14314073278382075\n",
      "19 iter loss. Train : 0.011389721301668777 . Test : 0.14373762266376283\n",
      "20 iter loss. Train : 0.0104339469889074 . Test : 0.14352053851662472\n",
      "21 iter loss. Train : 0.009793475462439409 . Test : 0.14379640110615777\n",
      "22 iter loss. Train : 0.009016602645665648 . Test : 0.14520862284242617\n",
      "23 iter loss. Train : 0.008551225753295966 . Test : 0.1445983890711135\n",
      "24 iter loss. Train : 0.007986126633264645 . Test : 0.14421063058528621\n",
      "25 iter loss. Train : 0.007491880964801077 . Test : 0.14563997953511051\n",
      "26 iter loss. Train : 0.007100410446242333 . Test : 0.1451142053871507\n",
      "27 iter loss. Train : 0.006725218228482294 . Test : 0.14551555266617291\n",
      "28 iter loss. Train : 0.006404056035004908 . Test : 0.14503806677633355\n",
      "29 iter loss. Train : 0.006104848745149588 . Test : 0.14566215284149464\n",
      "30 iter loss. Train : 0.005842559987867082 . Test : 0.1459014625487442\n",
      "31 iter loss. Train : 0.005580935599803666 . Test : 0.14598016314012183\n",
      "32 iter loss. Train : 0.005377263655239739 . Test : 0.1456672176503434\n",
      "33 iter loss. Train : 0.005164703155632712 . Test : 0.14593512258452543\n",
      "34 iter loss. Train : 0.005018883053546583 . Test : 0.1462441853396589\n",
      "35 iter loss. Train : 0.00485098060361131 . Test : 0.14627542858640552\n",
      "36 iter loss. Train : 0.004673304199569848 . Test : 0.14521366475066805\n",
      "37 iter loss. Train : 0.004534628799521078 . Test : 0.14560847306097455\n",
      "38 iter loss. Train : 0.004394654388020376 . Test : 0.1460230128439088\n",
      "39 iter loss. Train : 0.004288644414923266 . Test : 0.14573442936574785\n",
      "40 iter loss. Train : 0.0041859152954517725 . Test : 0.14558437784573397\n",
      "41 iter loss. Train : 0.004085926201365083 . Test : 0.14493831879929772\n",
      "42 iter loss. Train : 0.003967285290499689 . Test : 0.14520947947044177\n",
      "43 iter loss. Train : 0.0038953624245706255 . Test : 0.14499478601322996\n",
      "44 iter loss. Train : 0.003790044543184343 . Test : 0.14493336672666202\n",
      "45 iter loss. Train : 0.0037181680638937696 . Test : 0.14533604670629138\n",
      "46 iter loss. Train : 0.003645938387097613 . Test : 0.1451549465708095\n",
      "47 iter loss. Train : 0.0035821580647892657 . Test : 0.14462048213156428\n",
      "48 iter loss. Train : 0.003522945465749736 . Test : 0.1447300033246293\n",
      "49 iter loss. Train : 0.003469262632061112 . Test : 0.14449046833252827\n",
      "50 iter loss. Train : 0.00340538216271318 . Test : 0.1446195812556047\n",
      "51 iter loss. Train : 0.0033587574134227756 . Test : 0.14425904086621286\n",
      "52 iter loss. Train : 0.0032951724199818417 . Test : 0.14380910074551145\n",
      "53 iter loss. Train : 0.003261912503515854 . Test : 0.1436404861193878\n",
      "54 iter loss. Train : 0.003193518427536552 . Test : 0.14351067217029043\n",
      "55 iter loss. Train : 0.0031695425808775956 . Test : 0.14334580082958284\n",
      "56 iter loss. Train : 0.003122608971182862 . Test : 0.14335796637975792\n",
      "57 iter loss. Train : 0.0030931182001154543 . Test : 0.14304197275779487\n",
      "58 iter loss. Train : 0.003050446535159957 . Test : 0.1430151728781923\n",
      "59 iter loss. Train : 0.0030247083930776465 . Test : 0.14234770438474723\n",
      "60 iter loss. Train : 0.0029761079425898013 . Test : 0.1427869244883959\n",
      "61 iter loss. Train : 0.002963683829760486 . Test : 0.14215245331808646\n",
      "62 iter loss. Train : 0.002929311338707411 . Test : 0.14190847753061764\n",
      "63 iter loss. Train : 0.002903076503355675 . Test : 0.1419512029786928\n",
      "64 iter loss. Train : 0.0028660642280694255 . Test : 0.14155864491384992\n",
      "65 iter loss. Train : 0.002843659787389692 . Test : 0.14138048232583747\n",
      "66 iter loss. Train : 0.0028281069695920203 . Test : 0.14116187380570586\n",
      "67 iter loss. Train : 0.002800058056530301 . Test : 0.1409442089047489\n",
      "68 iter loss. Train : 0.0027806062736714728 . Test : 0.140769456984247\n",
      "69 iter loss. Train : 0.0027617844827175354 . Test : 0.14032417757388166\n",
      "70 iter loss. Train : 0.002735958091126342 . Test : 0.14039894805162464\n",
      "71 iter loss. Train : 0.002723949719664933 . Test : 0.14022883407571707\n",
      "72 iter loss. Train : 0.0026900765558468863 . Test : 0.14004366004686858\n",
      "73 iter loss. Train : 0.002689014908809899 . Test : 0.13961584738889254\n",
      "74 iter loss. Train : 0.0026724794364161946 . Test : 0.13935493927553827\n",
      "75 iter loss. Train : 0.0026496775531335633 . Test : 0.13920244428288706\n",
      "76 iter loss. Train : 0.0026329515569934706 . Test : 0.139014447048776\n",
      "77 iter loss. Train : 0.0026263361731031602 . Test : 0.13846465701607935\n",
      "78 iter loss. Train : 0.0026032140274547906 . Test : 0.1381546124520988\n",
      "79 iter loss. Train : 0.0025889047687215725 . Test : 0.13825534937507186\n"
     ]
    }
   ],
   "source": [
    "# Здесь процедура обучения\n",
    "# net = MnistNet()\n",
    "# loss = CrossEntropy()\n",
    "\n",
    "net = MnistNet(0.0001)\n",
    "loss = CrossEntropy()\n",
    "lr = 0.001\n",
    "L_train = []\n",
    "L_test = []\n",
    "acc_train = []\n",
    "acc_test = []\n",
    "encdr = OneHotEncoder()\n",
    "for iter in tqdm.tqdm_notebook(range(80)):\n",
    "    L_acc = 0.\n",
    "    sh = list(range(x_train.shape[0])) # больше рандома богу рандома\n",
    "    np.random.shuffle(sh)\n",
    "    for i in range(x_train.shape[0]):\n",
    "        x = x_train[sh[i]]\n",
    "        y = encdr.transform(y_train[sh[i]])\n",
    "        y_h = net.forward(x)\n",
    "        L = loss.forward(y, y_h) #+ net.get_reg_loss()\n",
    "        L_acc += L \n",
    "        dz = loss.backward(1, lr)\n",
    "        dz = net.backward(dz, lr)\n",
    "    L_acc /= y_train.shape[0]\n",
    "    L_train.append(L_acc)\n",
    "    L_e_acc = 0.\n",
    "    for i in range(x_val.shape[0]):\n",
    "        x = x_val[i]\n",
    "        y = encdr.transform(y_val[i])\n",
    "        y_h = net.forward(x)\n",
    "        L = loss.forward(y, y_h) #+ net.get_reg_loss()\n",
    "        L_e_acc += L\n",
    "    L_e_acc /= y_val.shape[0]\n",
    "    L_test.append(L_e_acc)\n",
    "    print(\"{} iter loss. Train : {} . Test : {}\".format(iter, L_acc, L_e_acc))\n",
    "    acc_train.append(compute_acc(x_train, y_train, net)) # Добавлено\n",
    "    acc_test.append(compute_acc(x_val, y_val, net)) # Добавлено\n"
   ]
  },
  {
   "cell_type": "code",
   "execution_count": 30,
   "metadata": {},
   "outputs": [
    {
     "data": {
      "image/png": "[encoded data removed]",
      "text/plain": [
       "<matplotlib.figure.Figure at 0x11855c278>"
      ]
     },
     "metadata": {},
     "output_type": "display_data"
    }
   ],
   "source": [
    "# Здесь необходимо отрисовать графики CrossEntropyLoss для обучающей и валидационной выборок\n",
    "# plot(L_train, label=\"train\")\n",
    "plt.title('Loss')\n",
    "plt.plot(L_train, label = 'Train')\n",
    "plt.plot(L_test, label = 'Validation')\n",
    "plt.legend();"
   ]
  },
  {
   "cell_type": "code",
   "execution_count": 32,
   "metadata": {},
   "outputs": [
    {
     "data": {
      "image/png": "[encoded data removed]",
      "text/plain": [
       "<matplotlib.figure.Figure at 0x1157d5828>"
      ]
     },
     "metadata": {},
     "output_type": "display_data"
    }
   ],
   "source": [
    "# Добавил график для Accuracy\n",
    "plt.title('Acc')\n",
    "plt.plot(acc_train, label='Train')\n",
    "plt.plot(acc_test, label='Validation')\n",
    "plt.legend();"
   ]
  },
  {
   "cell_type": "code",
   "execution_count": 37,
   "metadata": {},
   "outputs": [
    {
     "name": "stderr",
     "output_type": "stream",
     "text": [
      "/Users/bulat/anaconda3/lib/python3.6/site-packages/ipykernel_launcher.py:9: RuntimeWarning: overflow encountered in exp\n",
      "  if __name__ == '__main__':\n",
      "/Users/bulat/anaconda3/lib/python3.6/site-packages/ipykernel_launcher.py:10: RuntimeWarning: invalid value encountered in true_divide\n",
      "  # Remove the CWD from sys.path while we load stuff.\n"
     ]
    }
   ],
   "source": [
    "# формируем сабмишшен и заливаем его на kaggle\n",
    "xx = test_no_lables['data']\n",
    "\n",
    "\n",
    "xx = xx.astype('float')\n",
    "xx = (xx - xm) / (xs + 0.00001)\n",
    "\n",
    "\n",
    "make_submission(xx, net)"
   ]
  },
  {
   "cell_type": "code",
   "execution_count": null,
   "metadata": {},
   "outputs": [],
   "source": []
  }
 ],
 "metadata": {
  "kernelspec": {
   "display_name": "Python 3",
   "language": "python",
   "name": "python3"
  },
  "language_info": {
   "codemirror_mode": {
    "name": "ipython",
    "version": 3
   },
   "file_extension": ".py",
   "mimetype": "text/x-python",
   "name": "python",
   "nbconvert_exporter": "python",
   "pygments_lexer": "ipython3",
   "version": "3.6.4"
  }
 },
 "nbformat": 4,
 "nbformat_minor": 2
}

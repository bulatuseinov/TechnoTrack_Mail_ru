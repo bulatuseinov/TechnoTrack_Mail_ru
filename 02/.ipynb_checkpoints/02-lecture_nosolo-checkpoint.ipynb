{
 "cells": [
  {
   "cell_type": "markdown",
   "metadata": {},
   "source": [
    "# Персептрон и алгоритм обратного распространения ошибки.  "
   ]
  },
  {
   "cell_type": "markdown",
   "metadata": {},
   "source": [
    "Illustration of the Mark 1 perceptron hardware (1960).\n",
    "\n",
    "<img src=\"./imgs/0.png\">\n",
    "The photograph on the left shows how the inputs were obtained using a simple camera system in which an input scene, in this case a printed character, was illuminated by powerful lights, and an image focussed onto a 20 × 20 array of cadmium sulphide photocells, giving a primitive 400 pixel image. \n",
    "<img src=\"./imgs/1.png\">\n",
    "The perceptron also had a patch board, shown in the middle photograph,\n",
    "which allowed different configurations of input features to be tried. Often these were wired up at random to demonstrate the ability of the perceptron to learn without the need for precise wiring, in contrast to a modern digital computer. \n",
    "\n",
    "<img src=\"./imgs/2.png\">\n",
    "The photograph on the right shows one of the racks of adaptive weights. Each weight was\n",
    "implemented using a rotary variable resistor, also called a potentiometer, driven by an electric motor thereby\n",
    "allowing the value of the weight to be adjusted automatically by the learning algorithm.\n",
    "\n",
    "<img src=\"./imgs/2.jpg\">\n",
    "The Mark 1 Perceptron (Source: Arvin Calspan Advanced Technology Center; Hecht-Nielsen, R. Neurocomputing (Reading, Mass.: Addison-Wesley, 1990).)\n",
    "\n"
   ]
  },
  {
   "cell_type": "markdown",
   "metadata": {
    "collapsed": true
   },
   "source": [
    "# Однослойный перцептрон"
   ]
  },
  {
   "cell_type": "markdown",
   "metadata": {
    "collapsed": true
   },
   "source": [
    "<img src=\"./imgs/3.png\" width=400>"
   ]
  },
  {
   "cell_type": "markdown",
   "metadata": {},
   "source": [
    "$$\n",
    "\\large\n",
    "\\large OUT(x) = softmax(D_2(\\vec{x})) \\\\\n",
    "\\large D_2(\\vec{x}) = \\theta_2 + W_2 A_1(\\vec{x}) \\\\\n",
    "\\large A_1(x) = max(0, D_1(\\vec{x})) \\\\\n",
    "\\large D_1(\\vec{x}) = \\theta_1 + W_1 \\vec{x}\n",
    "$$\n",
    "\n",
    "Каждая сеть представима в виде акцикличного графа вычислений над тензорами. **Тензор** - в случае нейронных сетей это просто многомерный массив. В узлах графа находятся функции, осуществляющие операции. В техминах нейронных сетей вычислительные узлы называют **слоями**. В данной сети есть слои следующих видов:\n",
    "- dense (D) - полносвязный слой\n",
    "- max(0,x) - слой нелинейной активации\n",
    "- softmax - softmax \n",
    "- loss - функционал потерь, котороый тоже стоит рассматривать как слой.\n",
    "\n",
    "Обычно граф вычислений рисуется следующим образом"
   ]
  },
  {
   "cell_type": "markdown",
   "metadata": {},
   "source": [
    "<img src=\"./imgs/4.png\" width=700>"
   ]
  },
  {
   "cell_type": "markdown",
   "metadata": {},
   "source": [
    "Так как мы говорим про задачу многоклассовой классификации, то на выходе сети мы ожидаем набор вероятностей $p_i$, такие что $\\sum p_j = 1$. Для реализации этого используется softmax слой, физический смысл которого эквивалентен сигмойду в задаче бинарной классификации\n",
    "$$\n",
    "\\large softmax_i = p_i = \\frac{e^{a_i}}{\\sum_j e^{a_j}} \\\\\n",
    "$$"
   ]
  },
  {
   "cell_type": "markdown",
   "metadata": {},
   "source": [
    "# Loss функция"
   ]
  },
  {
   "cell_type": "markdown",
   "metadata": {},
   "source": [
    "Для того, чтобы получить loss функцию для нейронной сети, рассмотрим понятие перекрестной энтропии:\n",
    "$$\n",
    "\\large H(p, q) = \\operatorname{E}_p[-\\log q] = H(p) + D_{\\mathrm{KL}}(p \\| q)=-\\sum_x p(x)\\log q(x)\n",
    "$$\n",
    "где $D_{\\mathrm{KL}}(p||q)$ - расстояние Ку́льбака—Ле́йблера\n",
    "$$\n",
    "\\large D_{\\mathrm{KL}}(p||q)=\\sum \\limits _{i=1}^{n}p_{i}\\log {\\frac {p_{i}}{q_{i}}}\n",
    "$$\n",
    "Значение этого функционала можно понимать как количество неучтённой информации распределения $P$, если $Q$ было использовано для приближения $P$.\n",
    "\n",
    "Можно показать, что оптимизация кросс-энтропии в задаче многоклассовой оптимизации эквивалентно оптимизации правдоподобия.  Таким образом, loss для нашей сети будет:\n",
    "$$\n",
    "\\large L = -\\sum_i y_i \\log \\hat{y}_i\n",
    "$$"
   ]
  },
  {
   "cell_type": "markdown",
   "metadata": {},
   "source": [
    "# Концепция автоматического дифференцирования"
   ]
  },
  {
   "cell_type": "markdown",
   "metadata": {},
   "source": [
    "Давайте переместимся в слайды )\n",
    "<img src=\"./imgs/5.png\" width=700>"
   ]
  },
  {
   "cell_type": "markdown",
   "metadata": {},
   "source": [
    "# Обучаем персептрон"
   ]
  },
  {
   "cell_type": "markdown",
   "metadata": {},
   "source": [
    "Задача: нужно реализовать двухслойный персептрон и обучить его на наборе MNIST"
   ]
  },
  {
   "cell_type": "code",
   "execution_count": 5,
   "metadata": {},
   "outputs": [],
   "source": [
    "import numpy as np\n",
    "import matplotlib.pyplot as plt\n",
    "%matplotlib inline"
   ]
  },
  {
   "cell_type": "markdown",
   "metadata": {},
   "source": [
    "### Полносвязный слой (Dense)"
   ]
  },
  {
   "cell_type": "code",
   "execution_count": 2,
   "metadata": {},
   "outputs": [],
   "source": [
    "class Dense:\n",
    "    def __init__(self, in_size, out_size, rlambda = 0.0):\n",
    "        self.W = np.random.normal(scale=1, size=(out_size, in_size)) * np.sqrt(2/(out_size + in_size))\n",
    "        self.b = np.zeros(out_size)\n",
    "        self.rlambda = rlambda\n",
    "        \n",
    "    def forward(self, x):\n",
    "        self.x = x # запоминаем для обратного прохода\n",
    "        return np.dot(self.W, x) + self.b\n",
    "    \n",
    "    def get_reg_loss(self):\n",
    "        return 0.5 * self.rlambda * (np.linalg.norm(self.W, ord='fro') ** 2)\n",
    "    \n",
    "    def backward(self, dz, lr=0.001):\n",
    "        # вычисляем градиенты по параметрам (запоминаем их для отладки)\n",
    "        self.dW = np.outer(dz, self.x)\n",
    "        self.db = dz\n",
    "        # вычисляем производную по входу\n",
    "        self.dx = np.matmul(dz, self.W) \n",
    "        # рассчитываем градиенты от регуляризатора\n",
    "        if(self.rlambda != 0):\n",
    "            self.dW += self.rlambda * self.W\n",
    "        # обновляем веса\n",
    "        self.W = self.W - lr * self.dW\n",
    "        self.b = self.b - lr * self.db\n",
    "        # возвращаем dx для продолжения алгоритма\n",
    "        return self.dx"
   ]
  },
  {
   "cell_type": "markdown",
   "metadata": {},
   "source": [
    "Проверяем используя пример из слайдов"
   ]
  },
  {
   "cell_type": "code",
   "execution_count": 3,
   "metadata": {},
   "outputs": [
    {
     "name": "stdout",
     "output_type": "stream",
     "text": [
      "z =  [1.22 0.76] must be [1.22 0.76] diff =  [0. 0.]\n",
      "dx =  [-0.112  0.636] must be [-0.112  0.636] diff =  [1.38777878e-17 0.00000000e+00]\n",
      "W\n",
      " [[ 0.099912  0.499824]\n",
      " [-0.300104  0.799792]]\n",
      "dW:\n",
      " [[0.088 0.176]\n",
      " [0.104 0.208]]\n",
      "db:\n",
      " [0.43956 0.51948]\n",
      "dx:\n",
      " [-0.112  0.636]\n"
     ]
    }
   ],
   "source": [
    "d = Dense(2, 2)\n",
    "x = np.array([0.2, 0.4])\n",
    "d.W = np.array([[0.1, 0.5], [-0.3, 0.8]])\n",
    "d.b = np.array([1, 0.5])\n",
    "dz = np.array([0.44, 0.52])\n",
    "\n",
    "z = d.forward(x)\n",
    "z_orig = np.array([1.22, 0.76])\n",
    "print('z = ',z, 'must be', z_orig, 'diff = ', z-z_orig)\n",
    "\n",
    "dx = d.backward(dz)\n",
    "dx_orig = np.array([-0.112, 0.636])\n",
    "print('dx = ', dx, 'must be', dx_orig, 'diff = ', dx-dx_orig)\n",
    "\n",
    "print('W\\n', d.W)\n",
    "print('dW:\\n', d.dW)\n",
    "print('db:\\n', d.db)\n",
    "print('dx:\\n', d.dx)"
   ]
  },
  {
   "cell_type": "markdown",
   "metadata": {},
   "source": [
    "В слайдах у нас вход и выход слоя имеют одинаковую размерность. Давайте проверим, что для разных размеров все считается правильно."
   ]
  },
  {
   "cell_type": "code",
   "execution_count": 4,
   "metadata": {},
   "outputs": [
    {
     "name": "stdout",
     "output_type": "stream",
     "text": [
      "(2,) must be (2,)\n",
      "(3,) must be (3,)\n"
     ]
    }
   ],
   "source": [
    "# Проверяем, что размерности соблюдаются правильно\n",
    "d = Dense(3, 2)\n",
    "x = np.array([0.1, 0.2, 0.3])\n",
    "r = d.forward(x)\n",
    "print(r.shape, 'must be', (2,))\n",
    "dz = np.array([0.4, 0.5])\n",
    "dz = d.backward(dz)\n",
    "print(dz.shape, 'must be', (3,))"
   ]
  },
  {
   "cell_type": "markdown",
   "metadata": {},
   "source": [
    "### Нелинейная функция активации: ReLu"
   ]
  },
  {
   "cell_type": "markdown",
   "metadata": {},
   "source": [
    "$$\n",
    "ReLu = max(0, x)\n",
    "$$"
   ]
  },
  {
   "cell_type": "code",
   "execution_count": 5,
   "metadata": {},
   "outputs": [],
   "source": [
    "class Max:\n",
    "    \n",
    "    def forward(self, x):\n",
    "        self.x = x\n",
    "        return np.maximum(0, x)\n",
    "    \n",
    "    def backward(self, dz, lr=0.1):\n",
    "        dz[self.x < 0] = 0\n",
    "        return dz"
   ]
  },
  {
   "cell_type": "markdown",
   "metadata": {},
   "source": [
    "### Softmax"
   ]
  },
  {
   "cell_type": "markdown",
   "metadata": {},
   "source": [
    "$$\n",
    "\\frac {\\partial }{\\partial x_{k}}\\sigma_i (x) =\\sigma_i (x)(\\delta _{ik}-\\sigma_k (x))\n",
    "$$\n",
    "где $\\delta _{ik}$ это дельта Кронекера\n",
    "$$\n",
    "\\delta _{{ij}}={\\begin{cases}0&{\\text{if }}i\\neq j,\\\\1&{\\text{if }}i=j.\\end{cases}}\n",
    "$$"
   ]
  },
  {
   "cell_type": "code",
   "execution_count": 6,
   "metadata": {},
   "outputs": [],
   "source": [
    "# TODO\n",
    "class Softmax:\n",
    "    \n",
    "    def forward(self, x):\n",
    "        pass\n",
    "    \n",
    "    def backward(self, dz, lr=0.001):\n",
    "        pass"
   ]
  },
  {
   "cell_type": "code",
   "execution_count": 7,
   "metadata": {},
   "outputs": [
    {
     "name": "stdout",
     "output_type": "stream",
     "text": [
      "[0.5005 0.4995]\n",
      "dz [ 0.4999995 -0.4999995]\n",
      "[[ 0.4995 -0.5005]\n",
      " [-0.4995  0.5005]]\n",
      "[[ 0.24999975 -0.24999975]\n",
      " [-0.24999975  0.24999975]]\n"
     ]
    }
   ],
   "source": [
    "# Код для проверки\n",
    "x = np.array([0.001, -0.001])\n",
    "s = Softmax()\n",
    "sm = s.forward(x)\n",
    "print(sm)\n",
    "dz = np.array([0, -2.])\n",
    "print('dz', s.backward(dz))\n",
    "print(s.lp)\n",
    "print(s.lp2)"
   ]
  },
  {
   "cell_type": "markdown",
   "metadata": {},
   "source": [
    "### Loss: кросс-энтропия"
   ]
  },
  {
   "cell_type": "markdown",
   "metadata": {},
   "source": [
    "Напомню, кросс-энтропия выражается как\n",
    "$$\n",
    "L = -\\sum_i y_i \\log \\hat{y}_i\n",
    "$$\n",
    "\n",
    "Градиент вычисляется следующим образом:\n",
    "$$\n",
    "\\frac {\\partial }{\\partial \\hat{y}_{i}} L = -\\frac{y_i}{\\hat{y}_i}\n",
    "$$"
   ]
  },
  {
   "cell_type": "code",
   "execution_count": 1,
   "metadata": {},
   "outputs": [],
   "source": [
    "# TODO\n",
    "class CrossEntropy:\n",
    "    \n",
    "    def forward(self, y_true, y_hat):\n",
    "        pass\n",
    "    \n",
    "    def backward(self, dz, lr=0.001):\n",
    "        pass"
   ]
  },
  {
   "cell_type": "markdown",
   "metadata": {},
   "source": [
    "### Инициализация параметров сети"
   ]
  },
  {
   "cell_type": "markdown",
   "metadata": {},
   "source": [
    "На практике часто используют, так называемое, правило  Xavier'a:\n",
    "$$\n",
    "W \\sim N(0,1)\\sqrt{\\frac{2}{n_{in} + n_{out}}}\n",
    "$$\n",
    "\n",
    "Почему так:\n",
    "$$\n",
    "Y = W_1X_1 + W_2X_2 + ... + W_nX_n\n",
    "$$\n",
    "\n",
    "$$\n",
    "\\text{Var}(W_iX_i) = E[X_i]^2 \\text{Var}(W_i) + E[W_i]^2 \\text{Var}(X_i) + \\text{Var}(W_i)\\text{Var}(X_i)\n",
    "$$\n",
    "\n",
    "$$\n",
    "\\text{Var}(W_iX_i) = \\text{Var}(W_i)\\text{Var}(X_i)\n",
    "$$\n",
    "\n",
    "$$\n",
    "\\text{Var}(Y) = \\text{Var}(W_1X_1 + W_2X_2 + \\dotsb + W_n X_n) = n\\text{Var}(W_i)\\text{Var}(X_i)\n",
    "$$\n",
    "\n",
    "$$\n",
    "\\text{Var}(W_i) = \\frac{1}{n} = \\frac{1}{n_\\text{in}} - \\text{но это работает, когда}, n_in = n_out\n",
    "$$\n",
    "\n",
    "$$\n",
    "\\text{Поэтому избавляются от требования через} - \\text{Var}(W_i) = \\frac{2}{n_\\text{in} + n_\\text{out}}\n",
    "$$"
   ]
  },
  {
   "cell_type": "markdown",
   "metadata": {},
   "source": [
    "###  Dropout (в дополнение к L1 и L2). \"Учиться меньше, чтобы учиться лучше\"(с)"
   ]
  },
  {
   "cell_type": "markdown",
   "metadata": {},
   "source": [
    "<img src=\"./imgs/18.png\" width=700>"
   ]
  },
  {
   "cell_type": "markdown",
   "metadata": {},
   "source": [
    "Суть: каждый из нейронов участвует в обучении с некоторой вероятностью __p__. Во время инференса все нейроны включены в работу сети."
   ]
  },
  {
   "cell_type": "code",
   "execution_count": 9,
   "metadata": {},
   "outputs": [],
   "source": [
    "class Dropout:\n",
    "    def __init__(self, p = 0.5):\n",
    "        self.p = p\n",
    "        self.train = True\n",
    "    \n",
    "    def set_train(self, train = True):\n",
    "        self.train = train\n",
    "    \n",
    "    def forward(self, x):\n",
    "        if not self.train:\n",
    "            self.mask = np.ones(*x.shape)\n",
    "            return x\n",
    "        self.mask = ( np.random.rand(*x.shape) > self.p ) / (1.0 - self.p)\n",
    "        return x * self.mask\n",
    "        \n",
    "    def backward(self, dz, lr=0.001):\n",
    "        return dz * self.mask"
   ]
  },
  {
   "cell_type": "code",
   "execution_count": 10,
   "metadata": {},
   "outputs": [
    {
     "name": "stdout",
     "output_type": "stream",
     "text": [
      "[ 2.  0.  0.  0. 10.  0.  0.  0.]\n",
      "[ 4.  0.  0.  0. 20.  0.  0.  0.]\n"
     ]
    }
   ],
   "source": [
    "#np.random.seed()\n",
    "x = np.array([1,2,3,4,5,6,7,8])\n",
    "d = Dropout(0.5)\n",
    "z = d.forward(x)\n",
    "print(z)\n",
    "z = d.backward(z)\n",
    "print(z)"
   ]
  },
  {
   "cell_type": "markdown",
   "metadata": {},
   "source": [
    "# Тест 0 - самая тупая сеть\n",
    "\n",
    "Строим функцию $f(x)=x$"
   ]
  },
  {
   "cell_type": "code",
   "execution_count": 11,
   "metadata": {},
   "outputs": [],
   "source": [
    "X = np.array([[1., 0],\n",
    "              [0,  1.]])\n",
    "Y = np.array([[1., 0],\n",
    "              [0,  1.]])"
   ]
  },
  {
   "cell_type": "code",
   "execution_count": 12,
   "metadata": {},
   "outputs": [],
   "source": [
    "class IdentityNet:\n",
    "    \n",
    "    def __init__(self):\n",
    "        self.d = Dense(2, 2)\n",
    "        self.s = Softmax()\n",
    "        \n",
    "    def forward(self, x):\n",
    "        self.x = x\n",
    "        net = self.d.forward(x)\n",
    "        net = self.s.forward(net)\n",
    "        return net\n",
    "    \n",
    "    def backward(self, dz, lr=0.001):\n",
    "        dz = self.s.backward(dz, lr)\n",
    "        dz = self.d.backward(dz, lr)\n",
    "        return dz"
   ]
  },
  {
   "cell_type": "code",
   "execution_count": 13,
   "metadata": {},
   "outputs": [],
   "source": [
    "net = IdentityNet()\n",
    "L_iter = []"
   ]
  },
  {
   "cell_type": "code",
   "execution_count": 14,
   "metadata": {},
   "outputs": [
    {
     "name": "stdout",
     "output_type": "stream",
     "text": [
      "[0.95791563 0.04208437] [0.05416159 0.94583841]\n"
     ]
    },
    {
     "data": {
      "image/png": "[encoded data removed]",
      "text/plain": [
       "<matplotlib.figure.Figure at 0x7f07253e16a0>"
      ]
     },
     "metadata": {},
     "output_type": "display_data"
    }
   ],
   "source": [
    "# Инициализируем loss, его удобнее хранить в теле обучения\n",
    "loss = CrossEntropy() \n",
    "lr = 0.1 # скорость обучения\n",
    "for iter in range(100): # эпохи = полный проход по датасету\n",
    "    L_acc = 0.\n",
    "    for i in range(X.shape[0]):\n",
    "        x = X[i]\n",
    "        y = Y[i]\n",
    "        y_h = net.forward(x)\n",
    "        L = loss.forward(y, net.forward(x))\n",
    "        L_acc += L\n",
    "        dz = loss.backward(1, lr)\n",
    "        net.backward(dz, lr)\n",
    "    L_iter.append(L_acc) # коллекционируем loss\n",
    "plt.plot(L_iter) # посмотрим на кривую обучения\n",
    "print( net.forward(X[0]), net.forward(X[1])) # проверим глазами, что обучились"
   ]
  },
  {
   "cell_type": "markdown",
   "metadata": {},
   "source": [
    "# Тест 1 - XOR\n",
    "\n",
    "<img src=\"./imgs/10.png\" width=200>"
   ]
  },
  {
   "cell_type": "code",
   "execution_count": 15,
   "metadata": {},
   "outputs": [],
   "source": [
    "X = np.array([[-1, -1],\n",
    "              [1, -1],\n",
    "              [-1, 1],\n",
    "              [1, 1]], dtype='float')\n",
    "\n",
    "Y = np.array([[1, 0],\n",
    "              [0, 1],\n",
    "              [0, 1],\n",
    "              [1, 0]], dtype='float')\n"
   ]
  },
  {
   "cell_type": "code",
   "execution_count": 16,
   "metadata": {},
   "outputs": [],
   "source": [
    "class XorNet:\n",
    "    \n",
    "    def __init__(self):\n",
    "        self.d1 = Dense(2, 10)\n",
    "        self.a1 = Max()\n",
    "        self.d2 = Dense(10, 2)\n",
    "        self.sm = Softmax()\n",
    "        \n",
    "    def forward(self, x):\n",
    "        net = self.d1.forward(x)\n",
    "        net = self.a1.forward(net)\n",
    "        net = self.d2.forward(net)\n",
    "        net = self.sm.forward(net)\n",
    "        self.net = net\n",
    "        return net\n",
    "    \n",
    "    def backward(self, dz, lr=0.1):\n",
    "        dz = self.sm.backward(dz, lr)\n",
    "        dz = self.d2.backward(dz, lr)\n",
    "        dz = self.a1.backward(dz, lr)\n",
    "        dz = self.d1.backward(dz, lr)\n",
    "        return dz\n",
    "        "
   ]
  },
  {
   "cell_type": "code",
   "execution_count": 17,
   "metadata": {},
   "outputs": [],
   "source": [
    "net = XorNet()"
   ]
  },
  {
   "cell_type": "code",
   "execution_count": 18,
   "metadata": {},
   "outputs": [
    {
     "name": "stdout",
     "output_type": "stream",
     "text": [
      "[0.99351797 0.00648203] [1. 0.]\n",
      "[0.00593745 0.99406255] [0. 1.]\n",
      "[0.00659809 0.99340191] [0. 1.]\n",
      "[0.99182327 0.00817673] [1. 0.]\n"
     ]
    },
    {
     "data": {
      "image/png": "[encoded data removed]",
      "text/plain": [
       "<matplotlib.figure.Figure at 0x7f07253e1710>"
      ]
     },
     "metadata": {},
     "output_type": "display_data"
    }
   ],
   "source": [
    "loss = CrossEntropy()\n",
    "lr = 0.1\n",
    "L_iter = []\n",
    "for iter in range(100):\n",
    "    L_acc = 0.\n",
    "    for i in range(X.shape[0]):\n",
    "        x = X[i]\n",
    "        y = Y[i]\n",
    "        y_h = net.forward(x)\n",
    "        L = loss.forward(y, y_h)\n",
    "        L_acc += L\n",
    "        dz = loss.backward(1, lr)\n",
    "        dz = net.backward(dz, lr)\n",
    "    L_iter.append(L_acc)\n",
    "plt.plot(L_iter)\n",
    "for i in range(4):\n",
    "    print(net.forward(X[i]), Y[i])"
   ]
  },
  {
   "cell_type": "markdown",
   "metadata": {},
   "source": [
    "# Тест 3 - MNIST"
   ]
  },
  {
   "cell_type": "code",
   "execution_count": 6,
   "metadata": {},
   "outputs": [
    {
     "name": "stdout",
     "output_type": "stream",
     "text": [
      "(70000, 784)\n"
     ]
    }
   ],
   "source": [
    "from sklearn.datasets import fetch_mldata\n",
    "mnist = fetch_mldata('MNIST original', data_home='./')\n",
    "X = mnist['data']\n",
    "print(X.shape)"
   ]
  },
  {
   "cell_type": "code",
   "execution_count": 7,
   "metadata": {},
   "outputs": [
    {
     "data": {
      "image/png": "[encoded data removed]",
      "text/plain": [
       "<matplotlib.figure.Figure at 0x10efb00b8>"
      ]
     },
     "metadata": {},
     "output_type": "display_data"
    }
   ],
   "source": [
    "n=4\n",
    "for i in range(n*n):\n",
    "    plt.subplot(n,n,i+1)\n",
    "    I = X[np.random.randint(0, X.shape[0]),:]\n",
    "    I = I.reshape((28, 28))\n",
    "    plt.imshow(I, cmap='gray')"
   ]
  },
  {
   "cell_type": "code",
   "execution_count": 8,
   "metadata": {},
   "outputs": [
    {
     "data": {
      "text/plain": [
       "array([ 0.        ,  0.        ,  0.        ,  0.        ,  0.        ,\n",
       "        0.        ,  0.        ,  0.        ,  0.        ,  0.        ,\n",
       "        0.        ,  0.        , -0.00399946, -0.00528597, -0.00373393,\n",
       "       -0.00292098,  0.        ,  0.        ,  0.        ,  0.        ,\n",
       "        0.        ,  0.        ,  0.        ,  0.        ,  0.        ,\n",
       "        0.        ,  0.        ,  0.        ,  0.        ,  0.        ,\n",
       "        0.        ,  0.        , -0.00324335, -0.0055258 , -0.00850024,\n",
       "       -0.01131216, -0.01459925, -0.01913989, -0.02441394, -0.03011049,\n",
       "       -0.03190642, -0.03217889, -0.03298725, -0.03081623, -0.03021459,\n",
       "       -0.02739035, -0.02287571, -0.01848356, -0.01606125, -0.01012428,\n",
       "       -0.00763916, -0.00400213,  0.        ,  0.        ,  0.        ,\n",
       "        0.        ,  0.        ,  0.        , -0.00362962, -0.00461122,\n",
       "       -0.00778704, -0.01062691, -0.01830332, -0.02795461, -0.03759247,\n",
       "       -0.05306344, -0.0691812 , -0.08660277, -0.10279807, -0.11805827,\n",
       "       -0.13063968, -0.13879607, -0.13831391, -0.1301907 , -0.11822575,\n",
       "       -0.09984097, -0.07759957, -0.05581963, -0.038617  , -0.02338862,\n",
       "       -0.01301728, -0.00717958,  0.        ,  0.        ,  0.        ,\n",
       "        0.        , -0.00488258, -0.0080802 , -0.01334042, -0.0221411 ,\n",
       "       -0.03559334, -0.05561973, -0.07978928, -0.10918617, -0.13967678,\n",
       "       -0.17022074, -0.19949719, -0.22714203, -0.24951842, -0.26168683,\n",
       "       -0.26068822, -0.24487242, -0.21892742, -0.18441288, -0.14575238,\n",
       "       -0.10643899, -0.07628603, -0.0474828 , -0.02970557, -0.01530886,\n",
       "       -0.00592881,  0.        ,  0.        , -0.00353364, -0.0070738 ,\n",
       "       -0.0146436 , -0.02402759, -0.0487056 , -0.07867099, -0.11661765,\n",
       "       -0.16183657, -0.21436964, -0.27002464, -0.32982379, -0.39466306,\n",
       "       -0.45607307, -0.50330617,  0.06174735,  1.33701605,  2.63743307,\n",
       "        1.74022606,  0.42878808, -0.28192266, -0.21535395, -0.15790345,\n",
       "       -0.10873885, -0.07042062, -0.03808861, -0.01536646, -0.00518354,\n",
       "        0.        , -0.00340437, -0.01110866, -0.02183255, -0.05254753,\n",
       "       -0.09070642, -0.14008455, -0.19730303, -0.2645671 , -0.34250186,\n",
       "       -0.42647834, -0.52053438, -0.62051182, -0.7197708 , -0.35051165,\n",
       "        1.35267973,  1.50838182,  1.63427896,  1.88437665,  2.09764568,\n",
       "       -0.4464093 , -0.34585895, -0.25993361, -0.18935247, -0.13041155,\n",
       "       -0.07419289, -0.03292413, -0.00745923,  0.        , -0.00388275,\n",
       "       -0.01471855, -0.03670313, -0.08021621, -0.13320183, -0.19844515,\n",
       "       -0.27528381, -0.36421722, -0.46586553, -0.5791283 , -0.7039538 ,\n",
       "       -0.83443642, -0.47535549,  0.96206054,  1.14307611,  1.15882025,\n",
       "        1.1319572 ,  1.24773017,  1.70892752,  0.03415258, -0.37315881,\n",
       "       -0.33750906, -0.24705104, -0.17213135, -0.10340035, -0.04817215,\n",
       "       -0.01520282, -0.00357824, -0.01293907, -0.02654233, -0.05991195,\n",
       "       -0.11380703, -0.17829709, -0.25719863, -0.35073654, -0.46102003,\n",
       "       -0.58778425, -0.72995383, -0.78950581, -0.47490492,  0.89210414,\n",
       "        1.07643049,  1.06598263,  1.07665917,  0.680581  , -0.26580201,\n",
       "        1.45793447,  1.81848315,  0.86164043, -0.3949029 , -0.28534112,\n",
       "       -0.19595383, -0.12098875, -0.05656453, -0.01520286, -0.00459141,\n",
       "       -0.01776393, -0.04311035, -0.0845813 , -0.13954961, -0.21037845,\n",
       "       -0.29867968, -0.40687631, -0.53565328, -0.68612861, -0.85002896,\n",
       "        0.48491206,  1.18845008,  1.15365298,  1.15796509,  1.17862728,\n",
       "        1.16675105,  1.16686619, -0.18346805,  0.80200243,  1.68501788,\n",
       "        1.24181757, -0.42040679, -0.29601715, -0.19722598, -0.1209622 ,\n",
       "       -0.05585966, -0.01381349, -0.0068451 , -0.02242332, -0.05225272,\n",
       "       -0.09303466, -0.14982171, -0.22499976, -0.32191954, -0.44173265,\n",
       "       -0.58783564, -0.75653694, -0.44708605,  1.13627456,  1.27851216,\n",
       "        1.35211649,  0.83417067,  0.13450199,  1.35899695,  1.05515405,\n",
       "       -0.57852239, -0.1825716 ,  1.70708066,  1.25120516, -0.41751447,\n",
       "       -0.2879805 , -0.18145971, -0.10525737, -0.04859493, -0.0148291 ,\n",
       "       -0.0069927 , -0.02282804, -0.05239357, -0.09165414, -0.14619444,\n",
       "       -0.2251967 , -0.33085008, -0.462581  , -0.62372355, -0.34319223,\n",
       "        1.23542994,  1.34109567,  1.47043232,  0.92709004, -0.65486005,\n",
       "       -0.09059807,  0.25175601, -0.76365269, -0.96486792, -0.86302959,\n",
       "        1.77317879,  2.17727647,  0.30384159, -0.27000678, -0.16028549,\n",
       "       -0.08101669, -0.03822294, -0.01307092, -0.00702043, -0.02042133,\n",
       "       -0.04636706, -0.08062718, -0.13545176, -0.22331598, -0.33741171,\n",
       "       -0.48404816, -0.27078877,  0.70897443,  1.38979757,  1.26979075,\n",
       "        1.22040455,  0.10861221, -0.74071769, -0.80324098, -0.90258851,\n",
       "       -0.98082875, -0.95781116, -0.82460189,  1.90255827,  2.46796015,\n",
       "        2.04033924, -0.25760803, -0.15072006, -0.06164913, -0.02877269,\n",
       "       -0.00949006, -0.00483792, -0.01595207, -0.03584159, -0.06737315,\n",
       "       -0.12600697, -0.22510838, -0.35245919, -0.42843404,  1.06329943,\n",
       "        1.47424458,  1.28429826, -0.18391824, -0.58133461, -0.49741494,\n",
       "       -0.82105703, -0.91938104, -1.03157653, -1.06069203, -0.96757573,\n",
       "       -0.79414737,  2.04766809,  2.629016  ,  2.5578184 , -0.25543765,\n",
       "       -0.15441563, -0.05385482, -0.02113121, -0.00909008, -0.00349103,\n",
       "       -0.01098015, -0.02542155, -0.05609073, -0.1232566 , -0.23797308,\n",
       "       -0.37381574,  0.10189727,  1.72471974,  1.4598276 , -0.30783198,\n",
       "       -0.83884841, -0.81365138, -0.89063833, -0.98076998, -1.11392085,\n",
       "       -1.18447809, -1.13132511, -0.97696612, -0.77483094,  2.12615549,\n",
       "        2.6606143 ,  2.52831249, -0.2635455 , -0.16470715, -0.05899792,\n",
       "       -0.02182707, -0.00680496, -0.0036932 , -0.00731919, -0.01800666,\n",
       "       -0.05008078, -0.12798252, -0.25676025, -0.3945152 ,  1.60377048,\n",
       "        1.71581135,  0.91001107, -0.86586377, -0.85854583, -0.90182672,\n",
       "       -1.03502256, -1.14804193, -1.27775241, -1.25222618, -1.14053147,\n",
       "       -0.96394098, -0.76242806,  2.11461551,  2.59060012,  2.45374899,\n",
       "       -0.27337217, -0.17345601, -0.0689755 , -0.02368661, -0.00625389,\n",
       "       -0.00412648, -0.00383379, -0.0182885 , -0.0521236 , -0.13914431,\n",
       "       -0.27580477,  0.60344329,  2.10964159,  1.74774142,  0.24349442,\n",
       "       -0.84038088, -0.86847504, -0.95831168, -1.09630774, -1.20796988,\n",
       "       -1.27757997, -1.18843483, -1.08115496, -0.92454718, -0.7527373 ,\n",
       "        2.03498432,  2.48210017,  1.70679849, -0.27838283, -0.17522397,\n",
       "       -0.07690104, -0.0283501 , -0.00898752, -0.00354518, -0.00695232,\n",
       "       -0.02198952, -0.05988008, -0.15574055, -0.29514305,  0.68756441,\n",
       "        2.212983  ,  1.62611351, -0.50285721, -0.78734185, -0.83255024,\n",
       "       -0.91924478, -1.02796834, -1.12425613, -1.14894363, -1.08390532,\n",
       "       -1.00477153, -0.8182555 ,  0.54955118,  1.98778778,  1.68422101,\n",
       "       -0.20949629, -0.27303601, -0.17273124, -0.08319582, -0.03271706,\n",
       "       -0.00981737,  0.        , -0.00816135, -0.02554648, -0.07298741,\n",
       "       -0.17635582, -0.31117547,  0.66822059,  2.26971655,  1.66624314,\n",
       "       -0.68414852, -0.72457299, -0.76570428, -0.82569465, -0.91961675,\n",
       "       -1.0060785 , -1.03554657, -1.01563243, -0.89639515,  0.34595035,\n",
       "        1.6600799 ,  1.7005504 ,  0.35538001, -0.36814099, -0.26001844,\n",
       "       -0.16666409, -0.08704299, -0.03435274, -0.01114731, -0.00529023,\n",
       "       -0.00691341, -0.03347467, -0.09063174, -0.19717662, -0.32563271,\n",
       "        0.63506741,  2.26116673,  0.89698644, -0.66071584, -0.6990323 ,\n",
       "       -0.73131648, -0.78082634, -0.87088987, -0.95908042, -1.01433375,\n",
       "       -0.58178621,  0.53376138,  1.43914951,  0.9070962 , -0.59833955,\n",
       "       -0.46461298, -0.34815263, -0.24436652, -0.15623861, -0.08421431,\n",
       "       -0.03102641, -0.00968635, -0.00321296, -0.01007058, -0.03896364,\n",
       "       -0.10341914, -0.20966891, -0.33559737,  0.6071384 ,  2.18692613,\n",
       "        1.64347493, -0.6946554 , -0.7404558 , -0.77322267, -0.82883379,\n",
       "       -0.91889374, -1.01075303, -0.03955762,  1.09356482,  1.29810261,\n",
       "        0.62754454, -0.70618857, -0.55816498, -0.42747993, -0.31566257,\n",
       "       -0.21910941, -0.13972782, -0.07740726, -0.02890601, -0.00766055,\n",
       "        0.        , -0.00983066, -0.04275868, -0.10881935, -0.20697726,\n",
       "       -0.32829383,  0.59333957,  2.10230288,  1.76047987,  0.60620446,\n",
       "       -0.39147169, -0.62651045, -0.19681755,  0.54278676,  0.89224364,\n",
       "        1.13754662,  0.93130702,  0.56075715, -0.26870183, -0.63060064,\n",
       "       -0.48904241, -0.36831189, -0.26815958, -0.18549765, -0.1203696 ,\n",
       "       -0.06577596, -0.02599669, -0.00515411, -0.00349103, -0.00918871,\n",
       "       -0.04044408, -0.09959888, -0.18669621, -0.29790349,  0.68672895,\n",
       "        2.16583856,  1.76150684,  1.512734  ,  1.14819969,  0.91636114,\n",
       "        1.16239372,  1.09813777,  1.07845052,  0.63126366,  0.17125429,\n",
       "       -0.83761186, -0.67009217, -0.522702  , -0.39790467, -0.29458136,\n",
       "       -0.21067162, -0.14695614, -0.09579384, -0.04958696, -0.01963606,\n",
       "       -0.00353955, -0.00348245, -0.00521544, -0.03284681, -0.07855821,\n",
       "       -0.14687277, -0.24170404,  0.07602627,  1.90605591,  1.9564842 ,\n",
       "        1.59801369,  1.37880542,  1.22909202,  1.15012424,  0.95628887,\n",
       "        0.20925659, -0.97048171, -0.82351145, -0.66732829, -0.52461922,\n",
       "       -0.4011946 , -0.30114716, -0.21907166, -0.15705425, -0.10814885,\n",
       "       -0.06920147, -0.03647813, -0.01197069, -0.0036457 ,  0.        ,\n",
       "       -0.00340437, -0.02172641, -0.05130186, -0.09923222, -0.16728152,\n",
       "       -0.25816905,  0.02095569,  1.07591585,  2.02646447,  1.6856346 ,\n",
       "        1.46839875,  0.37232686, -0.56770418, -0.84553368, -0.74021024,\n",
       "       -0.61623585, -0.49357228, -0.38093338, -0.28750419, -0.21128685,\n",
       "       -0.1511833 , -0.10735248, -0.07260045, -0.04289433, -0.02026278,\n",
       "       -0.00953594,  0.        ,  0.        ,  0.        , -0.00951752,\n",
       "       -0.02802135, -0.05676442, -0.09395171, -0.15175537, -0.22128321,\n",
       "       -0.3016283 , -0.38561032, -0.46707679, -0.53000584, -0.56498337,\n",
       "       -0.56331534, -0.52982186, -0.47184935, -0.39958493, -0.32679336,\n",
       "       -0.25584086, -0.19328488, -0.14339581, -0.09960689, -0.06956899,\n",
       "       -0.04596552, -0.02456944, -0.01050827, -0.00428648,  0.        ,\n",
       "        0.        ,  0.        , -0.00589889, -0.01040108, -0.02768405,\n",
       "       -0.05092851, -0.08551595, -0.12697553, -0.1745199 , -0.22182858,\n",
       "       -0.26435491, -0.29359556, -0.30757195, -0.3064741 , -0.29174912,\n",
       "       -0.26625707, -0.23570652, -0.20166722, -0.16253962, -0.12606773,\n",
       "       -0.09278442, -0.06415504, -0.04507978, -0.02799926, -0.0156024 ,\n",
       "       -0.00623551, -0.0036859 ,  0.        ,  0.        ,  0.        ,\n",
       "        0.        , -0.00353364, -0.01420793, -0.03089993, -0.05290025,\n",
       "       -0.07845433, -0.10722637, -0.13264504, -0.15546071, -0.17376386,\n",
       "       -0.18233893, -0.18115784, -0.17151317, -0.15414823, -0.13591986,\n",
       "       -0.11676865, -0.09297231, -0.07215572, -0.05255379, -0.03660978,\n",
       "       -0.02223469, -0.01273746, -0.00566044, -0.00361745,  0.        ,\n",
       "        0.        ,  0.        ,  0.        ,  0.        ,  0.        ,\n",
       "       -0.00523149, -0.00832991, -0.01488161, -0.02129413, -0.02597697,\n",
       "       -0.03110821, -0.04183082, -0.0455404 , -0.05152847, -0.05552683,\n",
       "       -0.05952895, -0.05608601, -0.05066447, -0.04205929, -0.032896  ,\n",
       "       -0.02333251, -0.01669054, -0.01057016, -0.00828576, -0.00518088,\n",
       "        0.        ,  0.        ,  0.        ,  0.        ])"
      ]
     },
     "execution_count": 8,
     "metadata": {},
     "output_type": "execute_result"
    },
    {
     "data": {
      "image/png": "[encoded data removed]",
      "text/plain": [
       "<matplotlib.figure.Figure at 0x1a18b92ac8>"
      ]
     },
     "metadata": {},
     "output_type": "display_data"
    },
    {
     "data": {
      "image/png": "[encoded data removed]",
      "text/plain": [
       "<matplotlib.figure.Figure at 0x1a18b92828>"
      ]
     },
     "metadata": {},
     "output_type": "display_data"
    }
   ],
   "source": [
    "X = X.astype('float')\n",
    "Xm = np.mean(X, axis=0)\n",
    "Xs = np.std(X, axis=0)\n",
    "X=(X - Xm) / (Xs + 0.01)\n",
    "plt.imshow(Xm.reshape((28, 28)))\n",
    "plt.figure()\n",
    "plt.plot(X[0].reshape((28, 28))[14])\n",
    "\n",
    "X[0]"
   ]
  },
  {
   "cell_type": "code",
   "execution_count": 25,
   "metadata": {},
   "outputs": [
    {
     "name": "stdout",
     "output_type": "stream",
     "text": [
      "original [3. 3. 3. ... 7. 7. 7.]\n",
      "one hot [[1. 0.]\n",
      " [1. 0.]\n",
      " [1. 0.]\n",
      " ...\n",
      " [0. 1.]\n",
      " [0. 1.]\n",
      " [0. 1.]]\n"
     ]
    }
   ],
   "source": [
    "from sklearn.preprocessing import OneHotEncoder\n",
    "from sklearn.cross_validation import train_test_split\n",
    "Y = mnist['target']\n",
    "\n",
    "idxs = np.where((Y == 3 ) | (Y == 7))\n",
    "\n",
    "X_n = X[idxs]\n",
    "Y_n = Y[idxs]\n",
    "\n",
    "print('original', Y_n)\n",
    "t = OneHotEncoder(sparse=False)\n",
    "Y_work = t.fit_transform(Y_n.reshape(-1, 1))\n",
    "print('one hot', Y_work)\n",
    "X_train, X_test, Y_train, Y_test = train_test_split(X_n, Y_work, test_size=0.33, stratify=Y_n)"
   ]
  },
  {
   "cell_type": "code",
   "execution_count": 26,
   "metadata": {},
   "outputs": [],
   "source": [
    "class MnistNet:\n",
    "    \n",
    "    def __init__(self, rlambda=0.0):\n",
    "        self.d = Dense(784, 2, rlambda)\n",
    "        self.m = Max()\n",
    "        self.s = Softmax()\n",
    "    \n",
    "    def forward(self, x):\n",
    "        net = self.d.forward(x)\n",
    "        net = self.m.forward(net)\n",
    "        net = self.s.forward(net)\n",
    "        return net\n",
    "    \n",
    "    def backward(self, dz, lr):\n",
    "        dz = self.s.backward(dz, lr)\n",
    "        dz = self.m.backward(dz, lr)\n",
    "        dz = self.d.backward(dz, lr)\n",
    "        return dz"
   ]
  },
  {
   "cell_type": "code",
   "execution_count": 27,
   "metadata": {},
   "outputs": [
    {
     "name": "stdout",
     "output_type": "stream",
     "text": [
      "0 iter loss. Train : 0.09224769261721316 . Test : 0.055645826583401885\n",
      "1 iter loss. Train : 0.04831750145675952 . Test : 0.047663246727998265\n",
      "2 iter loss. Train : 0.040658014540435265 . Test : 0.042379983291367246\n",
      "3 iter loss. Train : 0.03568233181425151 . Test : 0.04096861964511148\n",
      "4 iter loss. Train : 0.032755575764105906 . Test : 0.04014128777132562\n",
      "5 iter loss. Train : 0.030396277169571013 . Test : 0.03787141224388436\n",
      "6 iter loss. Train : 0.028416867280916396 . Test : 0.03710252717811857\n",
      "7 iter loss. Train : 0.027086763279133914 . Test : 0.03621436829123806\n",
      "8 iter loss. Train : 0.025863954528711115 . Test : 0.035429747680527354\n",
      "9 iter loss. Train : 0.02462651103167072 . Test : 0.037268658239394625\n",
      "10 iter loss. Train : 0.02386488632856098 . Test : 0.035551115062914765\n",
      "11 iter loss. Train : 0.022965805257372154 . Test : 0.03672764924217908\n",
      "12 iter loss. Train : 0.022297399621300486 . Test : 0.03591911480145629\n",
      "13 iter loss. Train : 0.021413912018122497 . Test : 0.03674480418924501\n",
      "14 iter loss. Train : 0.021006804095737353 . Test : 0.03535246422782345\n",
      "15 iter loss. Train : 0.02033437754371651 . Test : 0.03544090033007627\n",
      "16 iter loss. Train : 0.019988691190794203 . Test : 0.036002851127429125\n",
      "17 iter loss. Train : 0.01940345726764859 . Test : 0.03514474826650143\n",
      "18 iter loss. Train : 0.019074228818147625 . Test : 0.03533093163841793\n",
      "19 iter loss. Train : 0.018643255258935596 . Test : 0.03545323991919566\n",
      "20 iter loss. Train : 0.018074123265703353 . Test : 0.036279349892221195\n",
      "21 iter loss. Train : 0.017857531496845394 . Test : 0.035147153486348996\n",
      "22 iter loss. Train : 0.017554779512432964 . Test : 0.03543456629049054\n",
      "23 iter loss. Train : 0.017190431546575683 . Test : 0.03616346917776993\n",
      "24 iter loss. Train : 0.016936550133377918 . Test : 0.03595343306968429\n",
      "25 iter loss. Train : 0.016631760211166302 . Test : 0.03521490976869846\n",
      "26 iter loss. Train : 0.016384662988212843 . Test : 0.036071230177337606\n",
      "27 iter loss. Train : 0.016108482989657693 . Test : 0.03564660663504163\n",
      "28 iter loss. Train : 0.01584497737391707 . Test : 0.03545812609764471\n",
      "29 iter loss. Train : 0.015572786955191516 . Test : 0.03587612527348334\n",
      "30 iter loss. Train : 0.01544377499883476 . Test : 0.0359572450065547\n",
      "31 iter loss. Train : 0.015175353293320043 . Test : 0.03649248179631245\n",
      "32 iter loss. Train : 0.014988930241556906 . Test : 0.03650204422729093\n",
      "33 iter loss. Train : 0.014787222039129062 . Test : 0.03639218932197203\n",
      "34 iter loss. Train : 0.014592034341358565 . Test : 0.03597120382301432\n",
      "35 iter loss. Train : 0.01437056301386389 . Test : 0.035932954588350635\n",
      "36 iter loss. Train : 0.014188449493865956 . Test : 0.03587525800667454\n",
      "37 iter loss. Train : 0.014029698299859159 . Test : 0.036545830212559124\n",
      "38 iter loss. Train : 0.013909485111890763 . Test : 0.0362819435140945\n",
      "39 iter loss. Train : 0.013680672639680928 . Test : 0.036360394508546015\n",
      "40 iter loss. Train : 0.013571872913100273 . Test : 0.03636097366098568\n",
      "41 iter loss. Train : 0.013433039818712267 . Test : 0.036173189914568006\n",
      "42 iter loss. Train : 0.013246395998349163 . Test : 0.03614195630603102\n",
      "43 iter loss. Train : 0.013171121220583417 . Test : 0.03713962176105346\n",
      "44 iter loss. Train : 0.013019770436806227 . Test : 0.036886793146078456\n",
      "45 iter loss. Train : 0.012968753410946863 . Test : 0.03678977717293908\n",
      "46 iter loss. Train : 0.012773751870840446 . Test : 0.036406523455759135\n",
      "47 iter loss. Train : 0.012617223222535218 . Test : 0.036382918947703166\n",
      "48 iter loss. Train : 0.01253415789876372 . Test : 0.037026765426937024\n",
      "49 iter loss. Train : 0.01245154667354602 . Test : 0.03715143359894039\n",
      "50 iter loss. Train : 0.012296389217451086 . Test : 0.036658342126761445\n",
      "51 iter loss. Train : 0.012285810601556214 . Test : 0.03703681182972519\n",
      "52 iter loss. Train : 0.012109688206075133 . Test : 0.037024026513818135\n",
      "53 iter loss. Train : 0.012080060488622249 . Test : 0.03719077155875257\n",
      "54 iter loss. Train : 0.01193698099885214 . Test : 0.03693889332993553\n",
      "55 iter loss. Train : 0.01187763184278519 . Test : 0.03741643718848029\n",
      "56 iter loss. Train : 0.011810833559341333 . Test : 0.03697373616907821\n",
      "57 iter loss. Train : 0.011667570062627157 . Test : 0.03754486957211391\n",
      "58 iter loss. Train : 0.011657711653025586 . Test : 0.03764790144800973\n",
      "59 iter loss. Train : 0.011485433790757303 . Test : 0.03746023991861665\n",
      "60 iter loss. Train : 0.011516406308826976 . Test : 0.037689013644290094\n",
      "61 iter loss. Train : 0.01138390530753887 . Test : 0.03798407373504374\n",
      "62 iter loss. Train : 0.011370912968662585 . Test : 0.03774133575127607\n",
      "63 iter loss. Train : 0.011260876576253328 . Test : 0.037725585490273536\n",
      "64 iter loss. Train : 0.011195239489629402 . Test : 0.03750457291337976\n",
      "65 iter loss. Train : 0.011104612337445453 . Test : 0.03746531974369592\n",
      "66 iter loss. Train : 0.011049139716358005 . Test : 0.03800909583355755\n",
      "67 iter loss. Train : 0.010935237834855512 . Test : 0.03780328282882813\n",
      "68 iter loss. Train : 0.010862969933831738 . Test : 0.03785583453599271\n",
      "69 iter loss. Train : 0.010832063038137416 . Test : 0.03801589959261395\n",
      "70 iter loss. Train : 0.010773174553151741 . Test : 0.03804912739138234\n",
      "71 iter loss. Train : 0.010698841025631681 . Test : 0.03805835251029898\n",
      "72 iter loss. Train : 0.01063628882413309 . Test : 0.038252697765178686\n",
      "73 iter loss. Train : 0.010578608335203915 . Test : 0.038559400944950036\n",
      "74 iter loss. Train : 0.010567999355408897 . Test : 0.038511123498247514\n",
      "75 iter loss. Train : 0.010499567009281464 . Test : 0.03817784028846281\n",
      "76 iter loss. Train : 0.010433142065215749 . Test : 0.03797056084120171\n",
      "77 iter loss. Train : 0.010408976856526723 . Test : 0.037945950109764495\n",
      "78 iter loss. Train : 0.010349555710824607 . Test : 0.038323687667442735\n",
      "79 iter loss. Train : 0.010287228163324351 . Test : 0.03800452895454778\n",
      "80 iter loss. Train : 0.010249626028866124 . Test : 0.038861872249613155\n",
      "81 iter loss. Train : 0.010257961770538278 . Test : 0.0387760566935712\n",
      "82 iter loss. Train : 0.010129154397945511 . Test : 0.03889197234933444\n",
      "83 iter loss. Train : 0.010052663738576197 . Test : 0.03919898005218741\n",
      "84 iter loss. Train : 0.010058672043069209 . Test : 0.039072314922797745\n",
      "85 iter loss. Train : 0.010025074621937672 . Test : 0.039007230884950624\n",
      "86 iter loss. Train : 0.009983089378684832 . Test : 0.03893362999836024\n",
      "87 iter loss. Train : 0.009900881973999446 . Test : 0.0390409046489398\n",
      "88 iter loss. Train : 0.009879630583721192 . Test : 0.039323299823630295\n",
      "89 iter loss. Train : 0.009778127961853957 . Test : 0.03987353196698113\n",
      "90 iter loss. Train : 0.00982809511077062 . Test : 0.038690287553224637\n",
      "91 iter loss. Train : 0.009750746985063532 . Test : 0.03894663233169612\n",
      "92 iter loss. Train : 0.009710244190248395 . Test : 0.03895720953194674\n",
      "93 iter loss. Train : 0.009670037584811981 . Test : 0.03915494380203373\n",
      "94 iter loss. Train : 0.00961319055759624 . Test : 0.039416748470673696\n",
      "95 iter loss. Train : 0.009570873284212078 . Test : 0.03988569942067082\n",
      "96 iter loss. Train : 0.009517161106914066 . Test : 0.039437775482366766\n",
      "97 iter loss. Train : 0.009480834326820635 . Test : 0.03957193246665091\n",
      "98 iter loss. Train : 0.009435305090706428 . Test : 0.03931794104624308\n",
      "99 iter loss. Train : 0.009425386811713381 . Test : 0.03939456599031645\n",
      "100 iter loss. Train : 0.009366231357626795 . Test : 0.03987824199243205\n",
      "101 iter loss. Train : 0.009326119438653715 . Test : 0.039320300804447934\n",
      "102 iter loss. Train : 0.009269407957806937 . Test : 0.03922665498205734\n",
      "103 iter loss. Train : 0.009260374532273649 . Test : 0.039575350182800284\n",
      "104 iter loss. Train : 0.009239579203783028 . Test : 0.03997534019887723\n",
      "105 iter loss. Train : 0.0091977151167111 . Test : 0.040065301138366365\n",
      "106 iter loss. Train : 0.009141272489653766 . Test : 0.03970268939678236\n",
      "107 iter loss. Train : 0.009172840600143927 . Test : 0.0397454217051233\n",
      "108 iter loss. Train : 0.009102188214034726 . Test : 0.03998689462071048\n",
      "109 iter loss. Train : 0.009104434671631995 . Test : 0.04009432300817077\n",
      "110 iter loss. Train : 0.009027115308737748 . Test : 0.040271372746170896\n",
      "111 iter loss. Train : 0.008998947711862113 . Test : 0.04012847441841196\n",
      "112 iter loss. Train : 0.009007324442851117 . Test : 0.0401584784313554\n",
      "113 iter loss. Train : 0.008970404784619641 . Test : 0.04042878683257086\n"
     ]
    },
    {
     "name": "stdout",
     "output_type": "stream",
     "text": [
      "114 iter loss. Train : 0.0089390404228334 . Test : 0.040372888493863494\n",
      "115 iter loss. Train : 0.008941731794143846 . Test : 0.03999055710790504\n",
      "116 iter loss. Train : 0.00889361364110486 . Test : 0.04042606733680143\n",
      "117 iter loss. Train : 0.008856852224792532 . Test : 0.04055517428797392\n",
      "118 iter loss. Train : 0.008849345320694974 . Test : 0.04027495984367346\n",
      "119 iter loss. Train : 0.008827137259221702 . Test : 0.04024138204420761\n",
      "120 iter loss. Train : 0.008759287485608254 . Test : 0.04047095016474482\n",
      "121 iter loss. Train : 0.008800630244553069 . Test : 0.04037743194612888\n",
      "122 iter loss. Train : 0.008749867642408572 . Test : 0.040578570363438246\n",
      "123 iter loss. Train : 0.008718185026093 . Test : 0.04058777833579752\n",
      "124 iter loss. Train : 0.00871619519115976 . Test : 0.0403119502040743\n",
      "125 iter loss. Train : 0.00869725580974611 . Test : 0.040739309991310826\n",
      "126 iter loss. Train : 0.00865581477585277 . Test : 0.04073412554661047\n",
      "127 iter loss. Train : 0.008638022738336167 . Test : 0.040704839032903624\n",
      "128 iter loss. Train : 0.008622618209199406 . Test : 0.04068526067158074\n",
      "129 iter loss. Train : 0.008596910843421506 . Test : 0.04058734642289771\n",
      "130 iter loss. Train : 0.008607640672854756 . Test : 0.04081009246729943\n",
      "131 iter loss. Train : 0.008557039675656946 . Test : 0.04084430362651051\n",
      "132 iter loss. Train : 0.008559853572259555 . Test : 0.04058851585758109\n",
      "133 iter loss. Train : 0.008515722132951977 . Test : 0.04049620480222597\n",
      "134 iter loss. Train : 0.008496388886969129 . Test : 0.04053643218218264\n",
      "135 iter loss. Train : 0.008474187090842406 . Test : 0.040948925569513434\n",
      "136 iter loss. Train : 0.008456668354440373 . Test : 0.040980011454864636\n",
      "137 iter loss. Train : 0.008454316928731189 . Test : 0.04064537392926869\n",
      "138 iter loss. Train : 0.00842550525043902 . Test : 0.04048247567298165\n",
      "139 iter loss. Train : 0.008416658011673923 . Test : 0.04068598037032236\n",
      "140 iter loss. Train : 0.008387689190435546 . Test : 0.04097946145350416\n",
      "141 iter loss. Train : 0.008388063796704627 . Test : 0.041253493059133915\n",
      "142 iter loss. Train : 0.008365545785704984 . Test : 0.040943840039056476\n",
      "143 iter loss. Train : 0.008347279435494069 . Test : 0.04096315008614538\n",
      "144 iter loss. Train : 0.008295639785428632 . Test : 0.04117325580990324\n",
      "145 iter loss. Train : 0.008299172244683647 . Test : 0.040933064891692496\n",
      "146 iter loss. Train : 0.008280414162219498 . Test : 0.04122145738541235\n",
      "147 iter loss. Train : 0.008255381157542993 . Test : 0.04108290432196163\n",
      "148 iter loss. Train : 0.008215956581444401 . Test : 0.04151078744848749\n",
      "149 iter loss. Train : 0.008223631741062346 . Test : 0.041042684470156535\n",
      "150 iter loss. Train : 0.008206724060927855 . Test : 0.04131623153988918\n",
      "151 iter loss. Train : 0.008175057522658088 . Test : 0.04129409455096303\n",
      "152 iter loss. Train : 0.008144476431346572 . Test : 0.041455306237085925\n",
      "153 iter loss. Train : 0.008155672182964775 . Test : 0.04150018001866225\n",
      "154 iter loss. Train : 0.008110157773828073 . Test : 0.041548060150434996\n",
      "155 iter loss. Train : 0.008109358034529598 . Test : 0.04137818870458446\n",
      "156 iter loss. Train : 0.008100910309710392 . Test : 0.04145736634738725\n",
      "157 iter loss. Train : 0.008076891737788234 . Test : 0.04158453475412803\n",
      "158 iter loss. Train : 0.008052929422893906 . Test : 0.04188713003488884\n",
      "159 iter loss. Train : 0.00804283508279769 . Test : 0.041809728599726495\n",
      "160 iter loss. Train : 0.008015266649540565 . Test : 0.04166156086061577\n",
      "161 iter loss. Train : 0.008033528379138486 . Test : 0.041500885034410434\n",
      "162 iter loss. Train : 0.007936886378595702 . Test : 0.04188662339444624\n",
      "163 iter loss. Train : 0.007912487049983166 . Test : 0.04163931794928524\n",
      "164 iter loss. Train : 0.007920079188803669 . Test : 0.0415030843691444\n",
      "165 iter loss. Train : 0.007892769767424566 . Test : 0.04176002806803036\n",
      "166 iter loss. Train : 0.007855167456041541 . Test : 0.041623209252785905\n",
      "167 iter loss. Train : 0.007858765863542531 . Test : 0.04165836501831805\n",
      "168 iter loss. Train : 0.007838227134950483 . Test : 0.04178396682879109\n",
      "169 iter loss. Train : 0.007754480401721427 . Test : 0.04149222137681072\n",
      "170 iter loss. Train : 0.007732893476327923 . Test : 0.04167711190079996\n",
      "171 iter loss. Train : 0.007751121118348908 . Test : 0.041686031283551264\n",
      "172 iter loss. Train : 0.007733251731907414 . Test : 0.04176711188648051\n",
      "173 iter loss. Train : 0.0077213138022972855 . Test : 0.041593139097922276\n",
      "174 iter loss. Train : 0.007682605562695069 . Test : 0.041857324971394314\n",
      "175 iter loss. Train : 0.0076787724848676716 . Test : 0.04152395330476412\n",
      "176 iter loss. Train : 0.007682865039314177 . Test : 0.04193994201263067\n"
     ]
    },
    {
     "ename": "KeyboardInterrupt",
     "evalue": "",
     "output_type": "error",
     "traceback": [
      "\u001b[0;31m---------------------------------------------------------------------------\u001b[0m",
      "\u001b[0;31mKeyboardInterrupt\u001b[0m                         Traceback (most recent call last)",
      "\u001b[0;32m<ipython-input-27-36b7ba738075>\u001b[0m in \u001b[0;36m<module>\u001b[0;34m()\u001b[0m\n\u001b[1;32m     15\u001b[0m         \u001b[0mL_acc\u001b[0m \u001b[0;34m+=\u001b[0m \u001b[0mL\u001b[0m\u001b[0;34m\u001b[0m\u001b[0m\n\u001b[1;32m     16\u001b[0m         \u001b[0mdz\u001b[0m \u001b[0;34m=\u001b[0m \u001b[0mloss\u001b[0m\u001b[0;34m.\u001b[0m\u001b[0mbackward\u001b[0m\u001b[0;34m(\u001b[0m\u001b[0;36m1\u001b[0m\u001b[0;34m,\u001b[0m \u001b[0mlr\u001b[0m\u001b[0;34m)\u001b[0m\u001b[0;34m\u001b[0m\u001b[0m\n\u001b[0;32m---> 17\u001b[0;31m         \u001b[0mdz\u001b[0m \u001b[0;34m=\u001b[0m \u001b[0mnet\u001b[0m\u001b[0;34m.\u001b[0m\u001b[0mbackward\u001b[0m\u001b[0;34m(\u001b[0m\u001b[0mdz\u001b[0m\u001b[0;34m,\u001b[0m \u001b[0mlr\u001b[0m\u001b[0;34m)\u001b[0m\u001b[0;34m\u001b[0m\u001b[0m\n\u001b[0m\u001b[1;32m     18\u001b[0m     \u001b[0mL_acc\u001b[0m \u001b[0;34m/=\u001b[0m \u001b[0mY_train\u001b[0m\u001b[0;34m.\u001b[0m\u001b[0mshape\u001b[0m\u001b[0;34m[\u001b[0m\u001b[0;36m0\u001b[0m\u001b[0;34m]\u001b[0m\u001b[0;34m\u001b[0m\u001b[0m\n\u001b[1;32m     19\u001b[0m     \u001b[0mL_train\u001b[0m\u001b[0;34m.\u001b[0m\u001b[0mappend\u001b[0m\u001b[0;34m(\u001b[0m\u001b[0mL_acc\u001b[0m\u001b[0;34m)\u001b[0m\u001b[0;34m\u001b[0m\u001b[0m\n",
      "\u001b[0;32m<ipython-input-26-4657db19dbc5>\u001b[0m in \u001b[0;36mbackward\u001b[0;34m(self, dz, lr)\u001b[0m\n\u001b[1;32m     13\u001b[0m \u001b[0;34m\u001b[0m\u001b[0m\n\u001b[1;32m     14\u001b[0m     \u001b[0;32mdef\u001b[0m \u001b[0mbackward\u001b[0m\u001b[0;34m(\u001b[0m\u001b[0mself\u001b[0m\u001b[0;34m,\u001b[0m \u001b[0mdz\u001b[0m\u001b[0;34m,\u001b[0m \u001b[0mlr\u001b[0m\u001b[0;34m)\u001b[0m\u001b[0;34m:\u001b[0m\u001b[0;34m\u001b[0m\u001b[0m\n\u001b[0;32m---> 15\u001b[0;31m         \u001b[0mdz\u001b[0m \u001b[0;34m=\u001b[0m \u001b[0mself\u001b[0m\u001b[0;34m.\u001b[0m\u001b[0ms\u001b[0m\u001b[0;34m.\u001b[0m\u001b[0mbackward\u001b[0m\u001b[0;34m(\u001b[0m\u001b[0mdz\u001b[0m\u001b[0;34m,\u001b[0m \u001b[0mlr\u001b[0m\u001b[0;34m)\u001b[0m\u001b[0;34m\u001b[0m\u001b[0m\n\u001b[0m\u001b[1;32m     16\u001b[0m         \u001b[0mdz\u001b[0m \u001b[0;34m=\u001b[0m \u001b[0mself\u001b[0m\u001b[0;34m.\u001b[0m\u001b[0mm\u001b[0m\u001b[0;34m.\u001b[0m\u001b[0mbackward\u001b[0m\u001b[0;34m(\u001b[0m\u001b[0mdz\u001b[0m\u001b[0;34m,\u001b[0m \u001b[0mlr\u001b[0m\u001b[0;34m)\u001b[0m\u001b[0;34m\u001b[0m\u001b[0m\n\u001b[1;32m     17\u001b[0m         \u001b[0mdz\u001b[0m \u001b[0;34m=\u001b[0m \u001b[0mself\u001b[0m\u001b[0;34m.\u001b[0m\u001b[0md\u001b[0m\u001b[0;34m.\u001b[0m\u001b[0mbackward\u001b[0m\u001b[0;34m(\u001b[0m\u001b[0mdz\u001b[0m\u001b[0;34m,\u001b[0m \u001b[0mlr\u001b[0m\u001b[0;34m)\u001b[0m\u001b[0;34m\u001b[0m\u001b[0m\n",
      "\u001b[0;32m<ipython-input-6-66b11cc7492b>\u001b[0m in \u001b[0;36mbackward\u001b[0;34m(self, dz, lr)\u001b[0m\n\u001b[1;32m      8\u001b[0m     \u001b[0;32mdef\u001b[0m \u001b[0mbackward\u001b[0m\u001b[0;34m(\u001b[0m\u001b[0mself\u001b[0m\u001b[0;34m,\u001b[0m \u001b[0mdz\u001b[0m\u001b[0;34m,\u001b[0m \u001b[0mlr\u001b[0m\u001b[0;34m=\u001b[0m\u001b[0;36m0.001\u001b[0m\u001b[0;34m)\u001b[0m\u001b[0;34m:\u001b[0m\u001b[0;34m\u001b[0m\u001b[0m\n\u001b[1;32m      9\u001b[0m         \u001b[0msm\u001b[0m \u001b[0;34m=\u001b[0m \u001b[0mself\u001b[0m\u001b[0;34m.\u001b[0m\u001b[0mforward\u001b[0m\u001b[0;34m(\u001b[0m\u001b[0mself\u001b[0m\u001b[0;34m.\u001b[0m\u001b[0mx\u001b[0m\u001b[0;34m)\u001b[0m\u001b[0;34m\u001b[0m\u001b[0m\n\u001b[0;32m---> 10\u001b[0;31m         \u001b[0mself\u001b[0m\u001b[0;34m.\u001b[0m\u001b[0mlp\u001b[0m \u001b[0;34m=\u001b[0m \u001b[0;34m(\u001b[0m\u001b[0mnp\u001b[0m\u001b[0;34m.\u001b[0m\u001b[0meye\u001b[0m\u001b[0;34m(\u001b[0m\u001b[0msm\u001b[0m\u001b[0;34m.\u001b[0m\u001b[0mshape\u001b[0m\u001b[0;34m[\u001b[0m\u001b[0;36m0\u001b[0m\u001b[0;34m]\u001b[0m\u001b[0;34m,\u001b[0m \u001b[0msm\u001b[0m\u001b[0;34m.\u001b[0m\u001b[0mshape\u001b[0m\u001b[0;34m[\u001b[0m\u001b[0;36m0\u001b[0m\u001b[0;34m]\u001b[0m\u001b[0;34m)\u001b[0m \u001b[0;34m-\u001b[0m \u001b[0msm\u001b[0m\u001b[0;34m)\u001b[0m\u001b[0;34m.\u001b[0m\u001b[0mT\u001b[0m\u001b[0;34m\u001b[0m\u001b[0m\n\u001b[0m\u001b[1;32m     11\u001b[0m         \u001b[0mself\u001b[0m\u001b[0;34m.\u001b[0m\u001b[0mlp2\u001b[0m \u001b[0;34m=\u001b[0m \u001b[0msm\u001b[0m \u001b[0;34m*\u001b[0m \u001b[0mself\u001b[0m\u001b[0;34m.\u001b[0m\u001b[0mlp\u001b[0m\u001b[0;34m\u001b[0m\u001b[0m\n\u001b[1;32m     12\u001b[0m         \u001b[0;32mreturn\u001b[0m \u001b[0mnp\u001b[0m\u001b[0;34m.\u001b[0m\u001b[0mdot\u001b[0m\u001b[0;34m(\u001b[0m\u001b[0mdz\u001b[0m\u001b[0;34m,\u001b[0m \u001b[0mself\u001b[0m\u001b[0;34m.\u001b[0m\u001b[0mlp2\u001b[0m\u001b[0;34m)\u001b[0m\u001b[0;34m\u001b[0m\u001b[0m\n",
      "\u001b[0;32m~/anaconda3/lib/python3.6/site-packages/numpy/lib/twodim_base.py\u001b[0m in \u001b[0;36meye\u001b[0;34m(N, M, k, dtype, order)\u001b[0m\n\u001b[1;32m    184\u001b[0m     \u001b[0;32mif\u001b[0m \u001b[0mM\u001b[0m \u001b[0;32mis\u001b[0m \u001b[0;32mNone\u001b[0m\u001b[0;34m:\u001b[0m\u001b[0;34m\u001b[0m\u001b[0m\n\u001b[1;32m    185\u001b[0m         \u001b[0mM\u001b[0m \u001b[0;34m=\u001b[0m \u001b[0mN\u001b[0m\u001b[0;34m\u001b[0m\u001b[0m\n\u001b[0;32m--> 186\u001b[0;31m     \u001b[0mm\u001b[0m \u001b[0;34m=\u001b[0m \u001b[0mzeros\u001b[0m\u001b[0;34m(\u001b[0m\u001b[0;34m(\u001b[0m\u001b[0mN\u001b[0m\u001b[0;34m,\u001b[0m \u001b[0mM\u001b[0m\u001b[0;34m)\u001b[0m\u001b[0;34m,\u001b[0m \u001b[0mdtype\u001b[0m\u001b[0;34m=\u001b[0m\u001b[0mdtype\u001b[0m\u001b[0;34m,\u001b[0m \u001b[0morder\u001b[0m\u001b[0;34m=\u001b[0m\u001b[0morder\u001b[0m\u001b[0;34m)\u001b[0m\u001b[0;34m\u001b[0m\u001b[0m\n\u001b[0m\u001b[1;32m    187\u001b[0m     \u001b[0;32mif\u001b[0m \u001b[0mk\u001b[0m \u001b[0;34m>=\u001b[0m \u001b[0mM\u001b[0m\u001b[0;34m:\u001b[0m\u001b[0;34m\u001b[0m\u001b[0m\n\u001b[1;32m    188\u001b[0m         \u001b[0;32mreturn\u001b[0m \u001b[0mm\u001b[0m\u001b[0;34m\u001b[0m\u001b[0m\n",
      "\u001b[0;31mKeyboardInterrupt\u001b[0m: "
     ]
    }
   ],
   "source": [
    "net = MnistNet(0.0001)\n",
    "loss = CrossEntropy()\n",
    "lr = 0.001\n",
    "L_train = []\n",
    "L_test = []\n",
    "for iter in range(500):\n",
    "    L_acc = 0.\n",
    "    sh = list(range(X_train.shape[0])) # больше рандома богу рандома\n",
    "    np.random.shuffle(sh)\n",
    "    for i in range(X_train.shape[0]):\n",
    "        x = X_train[sh[i]]\n",
    "        y = Y_train[sh[i]]\n",
    "        y_h = net.forward(x)\n",
    "        L = loss.forward(y, y_h) #+ net.get_reg_loss()\n",
    "        L_acc += L \n",
    "        dz = loss.backward(1, lr)\n",
    "        dz = net.backward(dz, lr)\n",
    "    L_acc /= Y_train.shape[0]\n",
    "    L_train.append(L_acc)\n",
    "    L_e_acc = 0.\n",
    "    for i in range(X_test.shape[0]):\n",
    "        x = X_test[i]\n",
    "        y = Y_test[i]\n",
    "        y_h = net.forward(x)\n",
    "        L = loss.forward(y, y_h) #+ net.get_reg_loss()\n",
    "        L_e_acc += L\n",
    "    L_e_acc /= Y_test.shape[0]\n",
    "    L_test.append(L_e_acc)\n",
    "    print(\"{} iter loss. Train : {} . Test : {}\".format(iter, L_acc, L_e_acc))"
   ]
  },
  {
   "cell_type": "code",
   "execution_count": 28,
   "metadata": {},
   "outputs": [
    {
     "data": {
      "text/plain": [
       "[<matplotlib.lines.Line2D at 0x7f0704b0e4e0>]"
      ]
     },
     "execution_count": 28,
     "metadata": {},
     "output_type": "execute_result"
    },
    {
     "data": {
      "image/png": "[encoded data removed]",
      "text/plain": [
       "<matplotlib.figure.Figure at 0x7f0704b0e518>"
      ]
     },
     "metadata": {},
     "output_type": "display_data"
    }
   ],
   "source": [
    "plt.plot(L_train, label='train')\n",
    "plt.plot(L_test, label='test')"
   ]
  },
  {
   "cell_type": "code",
   "execution_count": 29,
   "metadata": {},
   "outputs": [
    {
     "data": {
      "image/png": "[encoded data removed]",
      "text/plain": [
       "<matplotlib.figure.Figure at 0x7f0706749a58>"
      ]
     },
     "metadata": {},
     "output_type": "display_data"
    }
   ],
   "source": [
    "plt.figure(figsize=(6,6))\n",
    "\n",
    "sh = list(range(X_test.shape[0]))\n",
    "np.random.shuffle(sh)\n",
    "\n",
    "n = 3\n",
    "for i in range(n*n):\n",
    "    ax = plt.subplot(n, n, i+1)\n",
    "\n",
    "    j = sh[i]\n",
    "    R = np.argmax(Y_test[j])\n",
    "    P = net.forward(X_test[j])\n",
    "    Rp = np.argmax(P)\n",
    "\n",
    "    ax.set_title('%s = %.2f R:%s' % (Rp, P[Rp], R))\n",
    "    ax.set_axis_off()\n",
    "    plt.imshow(X_test[j].reshape((28, 28)))\n"
   ]
  },
  {
   "cell_type": "code",
   "execution_count": 30,
   "metadata": {},
   "outputs": [
    {
     "data": {
      "image/png": "[encoded data removed]",
      "text/plain": [
       "<matplotlib.figure.Figure at 0x7f070a133cf8>"
      ]
     },
     "metadata": {},
     "output_type": "display_data"
    }
   ],
   "source": [
    "plt.figure(figsize=(6,6))\n",
    "\n",
    "for i in range(0, 2):\n",
    "    ax = plt.subplot(1, 2, i + 1)\n",
    "    ax.set_title('%s' % (i))\n",
    "    ax.set_axis_off()\n",
    "    plt.imshow( net.d.W[i].reshape((28, 28)).T, cmap='gray' )"
   ]
  },
  {
   "cell_type": "markdown",
   "metadata": {},
   "source": [
    "# Pytorch. Autograd.\n",
    "\n",
    "Переходим в другой ноутбук."
   ]
  },
  {
   "cell_type": "markdown",
   "metadata": {},
   "source": [
    "# Чеклист"
   ]
  },
  {
   "cell_type": "markdown",
   "metadata": {},
   "source": [
    "- устройство многослойного персептрона\n",
    "- слои: полносвязный, ReLu, Softmax, Dropout, CrossEntropy\n",
    "- chain rule\n",
    "- правило дифференцирования сложной функции\n",
    "- алгоритм обратного распространения ошибки\n",
    "- Xavier's initialization\n",
    "- почему при обучении сеть потребляет больше памяти, чем при выводе"
   ]
  },
  {
   "cell_type": "markdown",
   "metadata": {},
   "source": [
    "# Почитать"
   ]
  },
  {
   "cell_type": "markdown",
   "metadata": {},
   "source": [
    "Backprop: лекция в cs231n\n",
    "- почитать: http://cs231n.github.io/optimization-2/\n",
    "- посмотреть: https://www.youtube.com/watch?v=d14TUNcbn1k\n",
    "\n",
    "Устройство мозга\n",
    "- медицина: https://www.coursera.org/learn/medical-neuroscience\n",
    "- информатика: https://www.coursera.org/learn/computational-neuroscience\n",
    "\n",
    "Нейроморфные процессоры\n",
    "- IBM SyNAPSE chip: http://research.ibm.com/cognitive-computing/neurosynaptic-chips.shtml"
   ]
  },
  {
   "cell_type": "code",
   "execution_count": null,
   "metadata": {},
   "outputs": [],
   "source": []
  },
  {
   "cell_type": "code",
   "execution_count": null,
   "metadata": {},
   "outputs": [],
   "source": []
  },
  {
   "cell_type": "code",
   "execution_count": null,
   "metadata": {},
   "outputs": [],
   "source": []
  }
 ],
 "metadata": {
  "kernelspec": {
   "display_name": "Python 3",
   "language": "python",
   "name": "python3"
  },
  "language_info": {
   "codemirror_mode": {
    "name": "ipython",
    "version": 3
   },
   "file_extension": ".py",
   "mimetype": "text/x-python",
   "name": "python",
   "nbconvert_exporter": "python",
   "pygments_lexer": "ipython3",
   "version": "3.6.4"
  }
 },
 "nbformat": 4,
 "nbformat_minor": 2
}

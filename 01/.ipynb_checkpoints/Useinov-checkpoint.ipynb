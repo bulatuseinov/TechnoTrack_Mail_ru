{
 "cells": [
  {
   "cell_type": "code",
   "execution_count": 7,
   "metadata": {},
   "outputs": [],
   "source": [
    "import pickle\n",
    "import numpy as np\n",
    "import PIL.Image\n",
    "import itertools\n",
    "from IPython.core.display import Image, display\n",
    "import scipy.ndimage\n",
    "import random\n",
    "import numpy as np\n",
    "import matplotlib.pylab as plt\n",
    "import tqdm\n",
    "import math\n",
    "%matplotlib inline"
   ]
  },
  {
   "cell_type": "markdown",
   "metadata": {
    "collapsed": true
   },
   "source": [
    "# Загружаем датасет"
   ]
  },
  {
   "cell_type": "code",
   "execution_count": 8,
   "metadata": {},
   "outputs": [],
   "source": [
    "with open('./hw_1_train.pickle', 'rb') as f:\n",
    "    train = pickle.load(f)\n",
    "\n",
    "with open('./hw_1_test_no_lables.pickle', 'rb') as f:\n",
    "    test_no_lables = pickle.load(f)"
   ]
  },
  {
   "cell_type": "code",
   "execution_count": 9,
   "metadata": {
    "scrolled": true
   },
   "outputs": [
    {
     "data": {
      "text/plain": [
       "<matplotlib.image.AxesImage at 0x180e5629e8>"
      ]
     },
     "execution_count": 9,
     "metadata": {},
     "output_type": "execute_result"
    },
    {
     "data": {
      "image/png": "[encoded data removed]",
      "text/plain": [
       "<matplotlib.figure.Figure at 0x180777ac18>"
      ]
     },
     "metadata": {},
     "output_type": "display_data"
    }
   ],
   "source": [
    "# Пример, как можно визуализировать данные\n",
    "plt.imshow(train['data'][0].reshape(28,28))"
   ]
  },
  {
   "cell_type": "markdown",
   "metadata": {},
   "source": [
    "# Обучаем модель"
   ]
  },
  {
   "cell_type": "code",
   "execution_count": 35,
   "metadata": {},
   "outputs": [],
   "source": [
    "# отнормируем данные\n",
    "\n",
    "x = train['data'] / 255\n",
    "y = train['labels']\n",
    "y[y == 5] = -1\n",
    "y[y == 6] = 1"
   ]
  },
  {
   "cell_type": "code",
   "execution_count": 36,
   "metadata": {},
   "outputs": [],
   "source": [
    "# разобьем данные на обучающее и тестирующие множество. Всего 10к картинок, поделим множетсво в соотношении 9:1, чтобы \n",
    "# сберечь данные для обучения модели.\n",
    "\n",
    "x_train = x.copy()[:9000]\n",
    "y_train = y.copy()[:9000]\n",
    "x_test = x.copy()[9000:]\n",
    "y_test = y.copy()[9000:]\n",
    "\n",
    "# добавим в обучающее и тестирующее множество единичную колонку\n",
    "\n",
    "x_train = np.hstack([ np.ones((x_train.shape[0], 1)), x_train] )\n",
    "x_test = np.hstack([ np.ones((x_test.shape[0], 1)), x_test] )"
   ]
  },
  {
   "cell_type": "code",
   "execution_count": 37,
   "metadata": {},
   "outputs": [],
   "source": [
    "# зададим случайные веса \n",
    "\n",
    "np.random.seed(11)\n",
    "w = np.random.normal(scale=0.00001, size = x_train.shape[1])\n"
   ]
  },
  {
   "cell_type": "code",
   "execution_count": 44,
   "metadata": {},
   "outputs": [],
   "source": [
    "# Объявим функцию Loss\n",
    " \n",
    "def loss(data, labels, w):\n",
    "    num = 0\n",
    "    for j in range(data.shape[0]):\n",
    "        num += math.log(1 + math.exp(- labels[j] * np.dot(w.T, data[j])))\n",
    "    return num"
   ]
  },
  {
   "cell_type": "code",
   "execution_count": 45,
   "metadata": {},
   "outputs": [],
   "source": [
    "# Объявим функцию ACC\n",
    "\n",
    "def acc(data, labels, w):\n",
    "    cnt = 0\n",
    "    for j in range(data.shape[0]):\n",
    "        p = 1 / (1 + math.exp(- np.dot(w.T, data[j])))\n",
    "        if ((labels[j] == 1) & (p >= 0.5)) or ((labels[j] == -1) & (p < 0.5)):\n",
    "            cnt += 1\n",
    "    return cnt/data.shape[0]\n",
    "        "
   ]
  },
  {
   "cell_type": "code",
   "execution_count": 46,
   "metadata": {},
   "outputs": [
    {
     "data": {
      "application/vnd.jupyter.widget-view+json": {
       "model_id": "ea3a3cc045fb4e18a0a295b4301e83b2",
       "version_major": 2,
       "version_minor": 0
      },
      "text/plain": [
       "HBox(children=(IntProgress(value=0, max=300), HTML(value='')))"
      ]
     },
     "metadata": {},
     "output_type": "display_data"
    },
    {
     "name": "stdout",
     "output_type": "stream",
     "text": [
      "\n"
     ]
    }
   ],
   "source": [
    "# обучим модель на тренировочном множестве\n",
    "\n",
    "loss_train = np.zeros(300)\n",
    "loss_test = np.zeros(300)\n",
    "acc_train = np.zeros(300)\n",
    "acc_test = np.zeros(300)\n",
    "for iter in tqdm.tqdm_notebook(range(300)):\n",
    "    for i in range(x_train.shape[0]):\n",
    "        j = np.random.randint(0, x_train.shape[0])\n",
    "        grad = - y_train[j] * x_train[j] / ( 1 + math.exp( y_train[j] * np.dot(w.T, x_train[j]) ) ) + 0 * w\n",
    "        w = w - 0.0004 * grad\n",
    "        \n",
    "    loss_train[iter] = loss(x_train, y_train, w)\n",
    "    loss_test[iter] = loss(x_test, y_test, w)\n",
    "    acc_train[iter] = acc(x_train, y_train, w)\n",
    "    acc_test[iter] = acc(x_test, y_test, w)\n",
    "    "
   ]
  },
  {
   "cell_type": "markdown",
   "metadata": {},
   "source": [
    "# Оцениваем результат"
   ]
  },
  {
   "cell_type": "markdown",
   "metadata": {},
   "source": [
    "Обязательно отрисуйте 2 графика:\n",
    "- loss на обучающем и тестовом множесте\n",
    "- % правильно классифицированных примеров на тестовом и обучающем множестве"
   ]
  },
  {
   "cell_type": "code",
   "execution_count": 47,
   "metadata": {},
   "outputs": [
    {
     "data": {
      "image/png": "[encoded data removed]",
      "text/plain": [
       "<matplotlib.figure.Figure at 0x1823af9a20>"
      ]
     },
     "metadata": {},
     "output_type": "display_data"
    }
   ],
   "source": [
    "# Построим график Loss \n",
    "plt.title('Loss')\n",
    "plt.plot(loss_train, label='train')\n",
    "plt.plot(loss_test, label='test')\n",
    "plt.legend();"
   ]
  },
  {
   "cell_type": "code",
   "execution_count": 48,
   "metadata": {},
   "outputs": [
    {
     "data": {
      "text/plain": [
       "<matplotlib.legend.Legend at 0x1823abcb70>"
      ]
     },
     "execution_count": 48,
     "metadata": {},
     "output_type": "execute_result"
    },
    {
     "data": {
      "image/png": "[encoded data removed]",
      "text/plain": [
       "<matplotlib.figure.Figure at 0x1823af9208>"
      ]
     },
     "metadata": {},
     "output_type": "display_data"
    }
   ],
   "source": [
    "# Построим график ACC\n",
    "plt.title('Acc')\n",
    "plt.plot(acc_train, label='train')\n",
    "plt.plot(acc_test, label='test')\n",
    "plt.legend()"
   ]
  },
  {
   "cell_type": "markdown",
   "metadata": {},
   "source": [
    "# Сохраняем данные для кагла"
   ]
  },
  {
   "cell_type": "markdown",
   "metadata": {},
   "source": [
    "https://www.kaggle.com/t/513ea517806348848dc78c4f41d44528"
   ]
  },
  {
   "cell_type": "markdown",
   "metadata": {},
   "source": [
    "Результат записывается в простой текстовый файл. Первая строчка \"Id,Prediction\", далее для каждого примера из валидационного множества записывается его Id (порядковый номер, с нуля) и вероятность принадлежности к классу '6', например '123,0.12'.\n",
    "\n",
    "Важно соблюдать тот же порядок следования элементов, что и в наборе данных. Нумерация id с 0"
   ]
  },
  {
   "cell_type": "code",
   "execution_count": 41,
   "metadata": {},
   "outputs": [],
   "source": [
    "X = test_no_lables['data']\n",
    "X = X / 255\n",
    "X = np.hstack([ np.ones((X.shape[0], 1)), X] )\n",
    "Y_pred = np.zeros(X.shape[0])\n",
    "# compute Y_pred\n",
    "for j in range(X.shape[0]):\n",
    "    Y_pred[j] = 1/(1+math.exp(- np.dot(w.T, X[j])))\n",
    "\n",
    "with open('solution.csv', 'w') as fout:\n",
    "    print(\"Id,Prediction\", file=fout)\n",
    "    for i in range(X.shape[0]):\n",
    "        print(i, Y_pred[i], sep=',', file=fout)"
   ]
  },
  {
   "cell_type": "markdown",
   "metadata": {},
   "source": [
    "# Сдача"
   ]
  },
  {
   "cell_type": "markdown",
   "metadata": {},
   "source": [
    "1. Регистрируетесь на конкурс https://www.kaggle.com/t/513ea517806348848dc78c4f41d44528 \n",
    "1. Преодолеваете \"Pass level\" baseline\n",
    "1. После того, как вы преодолеете baseline, присылайте ноутбук с решение по адресу **voropaev@corp.mail.ru**\n",
    "\n",
    "# Внимание\n",
    "- Пишите тему письм в формате \"[МИФИ][1] Фамилия\"\n",
    "- Внутри писма прикрепляете файл ноутбука с именем family.ipynb\n",
    "- Обязательно указывайте ваш ник на kaggle"
   ]
  }
 ],
 "metadata": {
  "kernelspec": {
   "display_name": "Python 3",
   "language": "python",
   "name": "python3"
  },
  "language_info": {
   "codemirror_mode": {
    "name": "ipython",
    "version": 3
   },
   "file_extension": ".py",
   "mimetype": "text/x-python",
   "name": "python",
   "nbconvert_exporter": "python",
   "pygments_lexer": "ipython3",
   "version": "3.6.4"
  }
 },
 "nbformat": 4,
 "nbformat_minor": 2
}
